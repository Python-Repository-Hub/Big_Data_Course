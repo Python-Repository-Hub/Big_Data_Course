{
 "cells": [
  {
   "cell_type": "code",
   "execution_count": 1,
   "metadata": {},
   "outputs": [],
   "source": [
    "import numpy as np\n",
    "from scipy import stats\n",
    "import scipy.stats\n",
    "import pandas as pd\n",
    "import statsmodels.api as sm\n",
    "import matplotlib.pyplot as plt\n",
    "import seaborn as sns\n",
    "from statsmodels.stats.proportion import proportions_ztest"
   ]
  },
  {
   "cell_type": "markdown",
   "metadata": {},
   "source": [
    "# 모평균 추정(모표준편차를 아는 경우)"
   ]
  },
  {
   "cell_type": "markdown",
   "metadata": {},
   "source": [
    "### 1.\n",
    "새로운 품종의 배추 40통을 랜덤추출하여 무게를 측정할 결과가 다음과 같음.  \n",
    "(단, 모표준편차는 0.397로 알려져 있음)  \n",
    "이 자료로부터 신품종 배추의 평균 무게에 대한 95% 신뢰구간을 구하시오."
   ]
  },
  {
   "cell_type": "code",
   "execution_count": 2,
   "metadata": {},
   "outputs": [
    {
     "data": {
      "text/html": [
       "<div>\n",
       "<style scoped>\n",
       "    .dataframe tbody tr th:only-of-type {\n",
       "        vertical-align: middle;\n",
       "    }\n",
       "\n",
       "    .dataframe tbody tr th {\n",
       "        vertical-align: top;\n",
       "    }\n",
       "\n",
       "    .dataframe thead th {\n",
       "        text-align: right;\n",
       "    }\n",
       "</style>\n",
       "<table border=\"1\" class=\"dataframe\">\n",
       "  <thead>\n",
       "    <tr style=\"text-align: right;\">\n",
       "      <th></th>\n",
       "      <th>sample</th>\n",
       "    </tr>\n",
       "  </thead>\n",
       "  <tbody>\n",
       "    <tr>\n",
       "      <th>0</th>\n",
       "      <td>3.6</td>\n",
       "    </tr>\n",
       "    <tr>\n",
       "      <th>1</th>\n",
       "      <td>2.9</td>\n",
       "    </tr>\n",
       "    <tr>\n",
       "      <th>2</th>\n",
       "      <td>2.8</td>\n",
       "    </tr>\n",
       "    <tr>\n",
       "      <th>3</th>\n",
       "      <td>2.6</td>\n",
       "    </tr>\n",
       "    <tr>\n",
       "      <th>4</th>\n",
       "      <td>3.4</td>\n",
       "    </tr>\n",
       "  </tbody>\n",
       "</table>\n",
       "</div>"
      ],
      "text/plain": [
       "   sample\n",
       "0     3.6\n",
       "1     2.9\n",
       "2     2.8\n",
       "3     2.6\n",
       "4     3.4"
      ]
     },
     "execution_count": 2,
     "metadata": {},
     "output_type": "execute_result"
    }
   ],
   "source": [
    "df = pd.DataFrame({'sample': [3.6,2.9,2.8,2.6,3.4,3.2,2.2,2.6,2.6,2.4,2.4,2.6,3.4,2.4,2.1,2.6,3.0,2.4,2.7,2.4,\n",
    "                              2.6,2.9,2.9,2.0,2.7,2.2,2.8,2.7,1.8,2.5,3.0,3.2,2.8,2.6,3.2,3.1,2.9,2.7,2.7,2.2]})\n",
    "df.head()"
   ]
  },
  {
   "cell_type": "code",
   "execution_count": 3,
   "metadata": {},
   "outputs": [
    {
     "name": "stdout",
     "output_type": "stream",
     "text": [
      "신뢰구간: ([2.57], [2.82])\n"
     ]
    }
   ],
   "source": [
    "lower, upper=stats.norm.interval(0.95, np.mean(df), 0.397/np.sqrt(40))\n",
    "print(\"신뢰구간: ({0}, {1})\".format(lower.round(2), upper.round(2)))"
   ]
  },
  {
   "cell_type": "markdown",
   "metadata": {},
   "source": [
    "### 2.\n",
    "새로운 품종의 감자 20 Box을 랜덤추출하여 무게를 측정할 결과가 다음과 같음.  \n",
    "(단, 모표준편차는 0.38로 알려져 있음)  \n",
    "이 자료로부터 신품종 감자의 평균 무게에 대한 95% 신뢰구간을 구하시오."
   ]
  },
  {
   "cell_type": "code",
   "execution_count": 4,
   "metadata": {},
   "outputs": [
    {
     "data": {
      "text/html": [
       "<div>\n",
       "<style scoped>\n",
       "    .dataframe tbody tr th:only-of-type {\n",
       "        vertical-align: middle;\n",
       "    }\n",
       "\n",
       "    .dataframe tbody tr th {\n",
       "        vertical-align: top;\n",
       "    }\n",
       "\n",
       "    .dataframe thead th {\n",
       "        text-align: right;\n",
       "    }\n",
       "</style>\n",
       "<table border=\"1\" class=\"dataframe\">\n",
       "  <thead>\n",
       "    <tr style=\"text-align: right;\">\n",
       "      <th></th>\n",
       "      <th>sample</th>\n",
       "    </tr>\n",
       "  </thead>\n",
       "  <tbody>\n",
       "    <tr>\n",
       "      <th>0</th>\n",
       "      <td>18</td>\n",
       "    </tr>\n",
       "    <tr>\n",
       "      <th>1</th>\n",
       "      <td>18</td>\n",
       "    </tr>\n",
       "    <tr>\n",
       "      <th>2</th>\n",
       "      <td>20</td>\n",
       "    </tr>\n",
       "    <tr>\n",
       "      <th>3</th>\n",
       "      <td>21</td>\n",
       "    </tr>\n",
       "    <tr>\n",
       "      <th>4</th>\n",
       "      <td>20</td>\n",
       "    </tr>\n",
       "  </tbody>\n",
       "</table>\n",
       "</div>"
      ],
      "text/plain": [
       "   sample\n",
       "0      18\n",
       "1      18\n",
       "2      20\n",
       "3      21\n",
       "4      20"
      ]
     },
     "execution_count": 4,
     "metadata": {},
     "output_type": "execute_result"
    }
   ],
   "source": [
    "df = pd.DataFrame({'sample': [18,18,20,21,20,23,19,18,17,21,22,20,20,21,20,19,19,18,17,19]})\n",
    "df.head()"
   ]
  },
  {
   "cell_type": "code",
   "execution_count": 5,
   "metadata": {},
   "outputs": [
    {
     "name": "stdout",
     "output_type": "stream",
     "text": [
      "신뢰구간: ([19.33], [19.67])\n"
     ]
    }
   ],
   "source": [
    "lower, upper=stats.norm.interval(0.95, np.mean(df), 0.38/np.sqrt(20))\n",
    "print(\"신뢰구간: ({0}, {1})\".format(lower.round(2), upper.round(2)))"
   ]
  },
  {
   "cell_type": "markdown",
   "metadata": {},
   "source": [
    "# 모평균 추정(모표준편차를 모르는 경우)"
   ]
  },
  {
   "cell_type": "markdown",
   "metadata": {},
   "source": [
    "### 1.\n",
    "제품개발자는 새로 개발된 강종의 평균 인장강도를 55kg/mm^2으로 기대하고 있음.  \n",
    "이를 검증하기 위해 시험 생산되는 강종 중 임의로 20개의 코일을 대상으로 랜덤하게 시편을 채취하였음.  \n",
    "상기 자료로부터 표본평균은 54.860kg/mm^2, 표본표준편차는 1.0081kg/mm^2 임을 알았음.  \n",
    "이 모평균값의 95% 신뢰구간을 추정하시오."
   ]
  },
  {
   "cell_type": "code",
   "execution_count": 6,
   "metadata": {},
   "outputs": [
    {
     "data": {
      "text/html": [
       "<div>\n",
       "<style scoped>\n",
       "    .dataframe tbody tr th:only-of-type {\n",
       "        vertical-align: middle;\n",
       "    }\n",
       "\n",
       "    .dataframe tbody tr th {\n",
       "        vertical-align: top;\n",
       "    }\n",
       "\n",
       "    .dataframe thead th {\n",
       "        text-align: right;\n",
       "    }\n",
       "</style>\n",
       "<table border=\"1\" class=\"dataframe\">\n",
       "  <thead>\n",
       "    <tr style=\"text-align: right;\">\n",
       "      <th></th>\n",
       "      <th>sample</th>\n",
       "    </tr>\n",
       "  </thead>\n",
       "  <tbody>\n",
       "    <tr>\n",
       "      <th>0</th>\n",
       "      <td>54.1</td>\n",
       "    </tr>\n",
       "    <tr>\n",
       "      <th>1</th>\n",
       "      <td>53.3</td>\n",
       "    </tr>\n",
       "    <tr>\n",
       "      <th>2</th>\n",
       "      <td>56.1</td>\n",
       "    </tr>\n",
       "    <tr>\n",
       "      <th>3</th>\n",
       "      <td>55.7</td>\n",
       "    </tr>\n",
       "    <tr>\n",
       "      <th>4</th>\n",
       "      <td>54.0</td>\n",
       "    </tr>\n",
       "  </tbody>\n",
       "</table>\n",
       "</div>"
      ],
      "text/plain": [
       "   sample\n",
       "0    54.1\n",
       "1    53.3\n",
       "2    56.1\n",
       "3    55.7\n",
       "4    54.0"
      ]
     },
     "execution_count": 6,
     "metadata": {},
     "output_type": "execute_result"
    }
   ],
   "source": [
    "df = pd.DataFrame({'sample': [54.1,53.3,56.1,55.7,54.0,54.1,54.5,57.1,55.2,\n",
    "                              53.8,54.1,54.1,56.1,55.0,55.9,56.0,54.9,54.3,\n",
    "                              53.9,55.0]})\n",
    "df.head()"
   ]
  },
  {
   "cell_type": "code",
   "execution_count": 7,
   "metadata": {},
   "outputs": [
    {
     "name": "stdout",
     "output_type": "stream",
     "text": [
      "신뢰구간: ([54.39], [55.33])\n"
     ]
    }
   ],
   "source": [
    "lower, upper=stats.t.interval(0.95, len(df)-1, np.mean(df), scipy.stats.sem(df)) # sem = s/sqrt(n)\n",
    "print(\"신뢰구간: ({0}, {1})\".format(lower.round(2), upper.round(2)))"
   ]
  },
  {
   "cell_type": "markdown",
   "metadata": {},
   "source": [
    "### 2.\n",
    "제품개발자는 새로 개발된 강종의 평균 인장강도를 70kg/mm^2으로 기대하고 있음.  \n",
    "이를 검증하기 위해 시험 생산되는 강종 중 임의로 20개의 코일을 대상으로 랜덤하게 시편을 채취하였음.  \n",
    "상기 자료로부터 표본평균은 71.50kg/mm^2, 표본표준편차는 1.933kg/mm^2 임을 알았음.  \n",
    "이 모평균값의 95% 신뢰구간을 추정하시오."
   ]
  },
  {
   "cell_type": "code",
   "execution_count": 8,
   "metadata": {},
   "outputs": [
    {
     "name": "stdout",
     "output_type": "stream",
     "text": [
      "신뢰구간: ([70.6], [72.4])\n"
     ]
    }
   ],
   "source": [
    "df = pd.DataFrame({'sample': [73,71,74,69,70,73,70,68,75,72,70,72,73,70,70,\n",
    "                              72,71,70,75,72]})\n",
    "lower, upper = stats.t.interval(0.95, len(df)-1, np.mean(df), scipy.stats.sem(df))\n",
    "print(\"신뢰구간: ({0}, {1})\".format(lower.round(2), upper.round(2)))"
   ]
  },
  {
   "cell_type": "markdown",
   "metadata": {},
   "source": [
    "# 모분산 신뢰구간 추정"
   ]
  },
  {
   "cell_type": "markdown",
   "metadata": {},
   "source": [
    "### 1.\n",
    "기계에 의하여 자동적으로 생산되는 플라스틱판은 그 두께에 있어서 약간의 변이 정도는 필연적인 것으로 간주된다.  \n",
    "어느 날 점검에서 10개의 판을 랜덤추출하여 그 두께를 측정한 결과 아래의 데이터를 얻었다.  \n",
    "- [226, 228, 226, 225, 232, 228, 227, 229, 225, 230] (표본표준편차 : 2.27)   \n",
    "\n",
    "플라스틱판의 두께에 대한 모분산의 90& 신뢰구간을 구하시오."
   ]
  },
  {
   "cell_type": "code",
   "execution_count": 9,
   "metadata": {},
   "outputs": [
    {
     "name": "stdout",
     "output_type": "stream",
     "text": [
      "n=10\n",
      "s=2.27\n",
      "X^2(0.05, 9)=16.919\n",
      "X^2(0.95, 9)=3.325\n"
     ]
    }
   ],
   "source": [
    "df = pd.DataFrame({'sample': [226, 228, 226, 225, 232, 228, 227, 229, 225, 230]})\n",
    "std=df.values.std(ddof=1).round(2)\n",
    "prop_lower=stats.chi2.ppf(0.95, len(df)-1).round(3)\n",
    "prop_upper=stats.chi2.ppf(0.05, len(df)-1).round(3)\n",
    "print(\"n={0}\\ns={1}\\nX^2(0.05, 9)={2:.3f}\\nX^2(0.95, 9)={3:.3f}\".format(len(df), std, prop_lower, prop_upper))"
   ]
  },
  {
   "cell_type": "code",
   "execution_count": 10,
   "metadata": {},
   "outputs": [
    {
     "name": "stdout",
     "output_type": "stream",
     "text": [
      "lower : 2.7410662568709734\n",
      "upper : 13.9476992481203\n"
     ]
    }
   ],
   "source": [
    "print(\"lower :\", (len(df)-1)*(2.27**2)/prop_lower)\n",
    "print(\"upper :\", (len(df)-1)*(2.27**2)/prop_upper)"
   ]
  },
  {
   "cell_type": "markdown",
   "metadata": {},
   "source": [
    "### 2.\n",
    "다음 상황에 대하여 모수의 신뢰구간을 계산한다.  \n",
    "날아라 항공사의 콜센터 성능을 평가하기 위해 50번의 전화를 랜덤한 시각에 걸어 상담원과 상담하기까지의 통화대기시간을 기록하였다.  \n",
    "고객들은 통화대기시간이 15초를 넘길 경우 짜증을 내기 시작하므로 15초를 초과한 통화대기는 통화관리 실패로 규정하고 있다.  \n",
    "통화대기시간의 모분산에 대한 점추정량 및 95% 신뢰구간을 구하시오."
   ]
  },
  {
   "cell_type": "code",
   "execution_count": 11,
   "metadata": {},
   "outputs": [
    {
     "name": "stdout",
     "output_type": "stream",
     "text": [
      "n=10\n",
      "s=3.98\n",
      "X^2(0.025, 49)=19.023\n",
      "X^2(0.975, 49)=2.700\n"
     ]
    }
   ],
   "source": [
    "df=pd.DataFrame({'월': [12, 13, 16, 9, 5, 19, 13, 8, 11, 17],\n",
    "                '화':[9, 5, 12, 11, 8, 6, 10, 12, 17, 11],\n",
    "                '수':[10, 9, 12, 14, 9, 6, 8, 14, 5, 8],\n",
    "                '목':[5, 8, 4, 9, 6, 8, 13, 16, 9, 5],\n",
    "                '금':[16, 13, 14, 17, 11, 9, 19 ,16 ,12, 8]})\n",
    "\n",
    "n=sum(df.count())\n",
    "s=df.values.std(ddof=1).round(2)\n",
    "prop_lower=stats.chi2.ppf(0.975, len(df)-1).round(3)\n",
    "prop_upper=stats.chi2.ppf(0.025, len(df)-1).round(3)\n",
    "print(\"n={0}\\ns={1}\\nX^2(0.025, 49)={2:.3f}\\nX^2(0.975, 49)={3:.3f}\".format(len(df), s, prop_lower, prop_upper))"
   ]
  },
  {
   "cell_type": "code",
   "execution_count": 12,
   "metadata": {},
   "outputs": [
    {
     "name": "stdout",
     "output_type": "stream",
     "text": [
      "lower : 40.802\n",
      "upper : 287.474\n"
     ]
    }
   ],
   "source": [
    "print(\"lower :\", ((n-1)*(s**2)/prop_lower).round(3))\n",
    "print(\"upper :\", ((n-1)*(s**2)/prop_upper).round(3))"
   ]
  },
  {
   "cell_type": "markdown",
   "metadata": {},
   "source": [
    "# 모비율 신뢰구간 추정"
   ]
  },
  {
   "cell_type": "markdown",
   "metadata": {},
   "source": [
    "### 1.\n",
    "어느 도시에서 실업률을 조사하기 위해 취업적령의 사람들 중 1600명을 랜덤추출하여 조사한 결과 96명이 실업자였다.  \n",
    "이 도시의 실업률 P에 대한 90% 신뢰구간을 구하시오."
   ]
  },
  {
   "cell_type": "code",
   "execution_count": 13,
   "metadata": {},
   "outputs": [
    {
     "name": "stdout",
     "output_type": "stream",
     "text": [
      "실업률에 대한 90% 신뢰구간 = (0.005, 0.115)\n"
     ]
    }
   ],
   "source": [
    "import math\n",
    "p=96/1600\n",
    "prop=stats.norm.ppf(0.95, 0, 1).round(3)\n",
    "prop_lower=(p-prop*math.sqrt(p*(1-p)/n)).round(3)\n",
    "prop_upper=(p+prop*math.sqrt(p*(1-p)/n)).round(3)\n",
    "print(\"실업률에 대한 90% 신뢰구간 = ({0}, {1})\".format(prop_lower, prop_upper))"
   ]
  },
  {
   "cell_type": "markdown",
   "metadata": {},
   "source": [
    "### 2.\n",
    "다음 상황에 대하여 모수의 신뢰구간을 계산한다.  \n",
    "날아라 항공사의 콜센터 성능을 평가하기 위해 50번의 전화를 랜덤한 시각에 걸어 상담원과 상담하기까지의 통화대기시간을 기록하였다.  \n",
    "고객들은 통화대기시간이 15초를 넘길 경우 짜증을 내기 시작하므로 15초를 초과한 통화대기는 통화관리 실패로 규정하고 있다.  \n",
    "통화관리 성공율에 대한 점추정량 및 95% 신뢰구간을 구하시오."
   ]
  },
  {
   "cell_type": "code",
   "execution_count": 14,
   "metadata": {},
   "outputs": [
    {
     "name": "stdout",
     "output_type": "stream",
     "text": [
      "p=0.82, n=50, Z(0.025)=1.96\n",
      "실업률에 대한 90% 신뢰구간 = (0.714, 0.926)\n"
     ]
    }
   ],
   "source": [
    "df=pd.DataFrame({'월': [12, 13, 16, 9, 5, 19, 13, 8, 11, 17],\n",
    "                '화':[9, 5, 12, 11, 8, 6, 10, 12, 17, 11],\n",
    "                '수':[10, 9, 12, 14, 9, 6, 8, 14, 5, 8],\n",
    "                '목':[5, 8, 4, 9, 6, 8, 13, 16, 9, 5],\n",
    "                '금':[16, 13, 14, 17, 11, 9, 19 ,16 ,12, 8]})\n",
    "\n",
    "n=sum(df.count())\n",
    "n_success=sum(df[df.values<15].value_counts())\n",
    "p=n_success/n\n",
    "prop=stats.norm.ppf(0.975, 0, 1).round(3)\n",
    "prop_lower=(p-prop*math.sqrt(p*(1-p)/n)).round(3)\n",
    "prop_upper=(p+prop*math.sqrt(p*(1-p)/n)).round(3)\n",
    "print(\"p={0}, n={1}, Z(0.025)={2}\".format(p, n, prop))\n",
    "print(\"실업률에 대한 90% 신뢰구간 = ({0}, {1})\".format(prop_lower, prop_upper))"
   ]
  }
 ],
 "metadata": {
  "kernelspec": {
   "display_name": "Python 3",
   "language": "python",
   "name": "python3"
  },
  "language_info": {
   "codemirror_mode": {
    "name": "ipython",
    "version": 3
   },
   "file_extension": ".py",
   "mimetype": "text/x-python",
   "name": "python",
   "nbconvert_exporter": "python",
   "pygments_lexer": "ipython3",
   "version": "3.8.5"
  }
 },
 "nbformat": 4,
 "nbformat_minor": 4
}
