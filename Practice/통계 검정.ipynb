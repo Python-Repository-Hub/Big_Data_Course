{
 "cells": [
  {
   "cell_type": "code",
   "execution_count": 1,
   "metadata": {},
   "outputs": [],
   "source": [
    "import numpy as np\n",
    "from scipy import stats\n",
    "import scipy.stats\n",
    "import pandas as pd\n",
    "import statsmodels.api as sm\n",
    "import matplotlib.pyplot as plt\n",
    "import seaborn as sns\n",
    "from statsmodels.stats.proportion import proportions_ztest\n",
    "from scipy.stats import shapiro"
   ]
  },
  {
   "cell_type": "markdown",
   "metadata": {},
   "source": [
    "# 정규성 검정"
   ]
  },
  {
   "cell_type": "markdown",
   "metadata": {},
   "source": [
    "### 1.\n",
    "1. 실습파일 camshaft 데이터를 불러온다.\n",
    "2. 변수 Supp1에 대해 정규성을 검정합니다.\n",
    "- (data set: camshaft)"
   ]
  },
  {
   "cell_type": "code",
   "execution_count": 2,
   "metadata": {},
   "outputs": [
    {
     "data": {
      "text/html": [
       "<div>\n",
       "<style scoped>\n",
       "    .dataframe tbody tr th:only-of-type {\n",
       "        vertical-align: middle;\n",
       "    }\n",
       "\n",
       "    .dataframe tbody tr th {\n",
       "        vertical-align: top;\n",
       "    }\n",
       "\n",
       "    .dataframe thead th {\n",
       "        text-align: right;\n",
       "    }\n",
       "</style>\n",
       "<table border=\"1\" class=\"dataframe\">\n",
       "  <thead>\n",
       "    <tr style=\"text-align: right;\">\n",
       "      <th></th>\n",
       "      <th>Length</th>\n",
       "      <th>Supp1</th>\n",
       "      <th>Supp2</th>\n",
       "    </tr>\n",
       "  </thead>\n",
       "  <tbody>\n",
       "    <tr>\n",
       "      <th>0</th>\n",
       "      <td>601.4</td>\n",
       "      <td>598.0</td>\n",
       "      <td>601.6</td>\n",
       "    </tr>\n",
       "    <tr>\n",
       "      <th>1</th>\n",
       "      <td>601.6</td>\n",
       "      <td>599.8</td>\n",
       "      <td>600.4</td>\n",
       "    </tr>\n",
       "    <tr>\n",
       "      <th>2</th>\n",
       "      <td>598.0</td>\n",
       "      <td>600.0</td>\n",
       "      <td>598.4</td>\n",
       "    </tr>\n",
       "    <tr>\n",
       "      <th>3</th>\n",
       "      <td>601.4</td>\n",
       "      <td>599.8</td>\n",
       "      <td>600.0</td>\n",
       "    </tr>\n",
       "    <tr>\n",
       "      <th>4</th>\n",
       "      <td>599.4</td>\n",
       "      <td>600.0</td>\n",
       "      <td>596.8</td>\n",
       "    </tr>\n",
       "  </tbody>\n",
       "</table>\n",
       "</div>"
      ],
      "text/plain": [
       "   Length  Supp1  Supp2\n",
       "0   601.4  598.0  601.6\n",
       "1   601.6  599.8  600.4\n",
       "2   598.0  600.0  598.4\n",
       "3   601.4  599.8  600.0\n",
       "4   599.4  600.0  596.8"
      ]
     },
     "execution_count": 2,
     "metadata": {},
     "output_type": "execute_result"
    }
   ],
   "source": [
    "data=pd.read_csv(\"../data/camshaft.csv\", engine='python')\n",
    "data.head()"
   ]
  },
  {
   "cell_type": "code",
   "execution_count": 3,
   "metadata": {},
   "outputs": [
    {
     "name": "stdout",
     "output_type": "stream",
     "text": [
      "Shapiro-Wilk Test: statistic=0.9788156747817993, p-value=0.10744144767522812\n"
     ]
    }
   ],
   "source": [
    "df=data['Supp1']\n",
    "statistic, p=shapiro(df)\n",
    "print(\"Shapiro-Wilk Test: statistic={}, p-value={}\".format(statistic, p))"
   ]
  },
  {
   "cell_type": "markdown",
   "metadata": {},
   "source": [
    "> 정규성 검정결과(95% 신뢰수준 사용시) :  p-value가 0.05보다 크므로 귀무가설 기각X   \n",
    "> => 정규성을 가진다고 본다"
   ]
  },
  {
   "cell_type": "markdown",
   "metadata": {},
   "source": [
    "### 2.\n",
    "1. 실습파일 2sample_t_test.csv을 불러온다\n",
    "2. 변수, Mat_A와 Mat_B에 대해 각각 정규성을 검정합니다\n",
    "- (data set: 2sample_t_test.csv)"
   ]
  },
  {
   "cell_type": "code",
   "execution_count": 4,
   "metadata": {},
   "outputs": [
    {
     "name": "stdout",
     "output_type": "stream",
     "text": [
      "Mat_A Shapiro-Wilk Test: statistic=0.9062638878822327, p-value=0.25630074739456177\n",
      "Mat_B Shapiro-Wilk Test: statistic=0.9729756116867065, p-value=0.9169799089431763\n"
     ]
    }
   ],
   "source": [
    "data=pd.read_csv(\"../data/2sample_t_test.csv\", engine='python')\n",
    "df_A=data['Mat_A']\n",
    "df_B=data['Mat_B']\n",
    "\n",
    "df_A=df_A.dropna()\n",
    "df_B=df_B.dropna()\n",
    "\n",
    "statistic_A, p_A=shapiro(df_A)\n",
    "print(\"Mat_A Shapiro-Wilk Test: statistic={}, p-value={}\".format(statistic_A, p_A))\n",
    "\n",
    "statistic_B, p_B=shapiro(df_B)\n",
    "print(\"Mat_B Shapiro-Wilk Test: statistic={}, p-value={}\".format(statistic_B, p_B))"
   ]
  },
  {
   "cell_type": "markdown",
   "metadata": {},
   "source": [
    "> Mat_A 정규성 검정결과(95% 신뢰수준 사용시) :  p-value가 0.05보다 크므로 귀무가설 기각X   \n",
    "> => 정규성을 가진다고 본다\n",
    "\n",
    "> Mat_B 정규성 검정결과(95% 신뢰수준 사용시) :  p-value가 0.05보다 크므로 귀무가설 기각X   \n",
    "> => 정규성을 가진다고 본다"
   ]
  },
  {
   "cell_type": "markdown",
   "metadata": {},
   "source": [
    "# 평균 검정(모집단 표준편차를 모르는 경우)"
   ]
  },
  {
   "cell_type": "markdown",
   "metadata": {},
   "source": [
    "# 1 Sample t-test"
   ]
  },
  {
   "cell_type": "markdown",
   "metadata": {},
   "source": [
    "### 1.\n",
    "고객서비스센터의 고객만족도 평균은 76.7이다.  \n",
    "개선활동을 완료한 후 다음과 같은 10개의 고객만족도 데이터를 얻었다.  \n",
    "개선활동이 만족도를 변화시켰는가? (a=0.05)  \n",
    "\n",
    "- 데이터 : 74.5 81.2 73.8 82.0 76.3 75.7 80.2 72.6 77.9 82.8"
   ]
  },
  {
   "cell_type": "code",
   "execution_count": 5,
   "metadata": {},
   "outputs": [
    {
     "data": {
      "text/plain": [
       "ShapiroResult(statistic=0.9331596493721008, pvalue=0.47968029975891113)"
      ]
     },
     "execution_count": 5,
     "metadata": {},
     "output_type": "execute_result"
    }
   ],
   "source": [
    "df=pd.DataFrame({'sample': [74.5, 81.2, 73.8, 82.0, 76.3, 75.7, 80.2, 72.6, 77.9, 82.8]})\n",
    "# 정규성 검정\n",
    "shapiro(df)"
   ]
  },
  {
   "cell_type": "markdown",
   "metadata": {},
   "source": [
    "> p-value > 0.05이므로 귀무가설 기각X => 정규성을 가지고 있다고 볼 수 있다."
   ]
  },
  {
   "cell_type": "code",
   "execution_count": 6,
   "metadata": {},
   "outputs": [
    {
     "name": "stdout",
     "output_type": "stream",
     "text": [
      "1-Sample t-test\n",
      "t 통계랑 : [0.864]\n",
      "p-value : [0.41]\n"
     ]
    }
   ],
   "source": [
    "t_result=stats.ttest_1samp(df, 76.7)\n",
    "t, p = t_result.statistic.round(3), t_result.pvalue.round(3)\n",
    "print(\"1-Sample t-test\")\n",
    "print(\"t 통계랑 : {}\".format(t))\n",
    "print(\"p-value : {}\".format(p))"
   ]
  },
  {
   "cell_type": "markdown",
   "metadata": {},
   "source": [
    "> p-value > 0.05이므로 귀무가설 기각X  \n",
    "> __결론 : 개선활동이 고객만족도를 변화를 시켰다고 할 수 없다.__"
   ]
  },
  {
   "cell_type": "markdown",
   "metadata": {},
   "source": [
    "### 2.\n",
    "고객서비스센터의 고객만족도 평균은 78.0이다.  \n",
    "개선활동을 완료한 후 다음과 같은 10개의 고객만족도 데이터를 얻었다.  \n",
    "개선활동이 만족도를 변화시켰는가? (a=0.05)  \n",
    "- 데이터 : 85.0 79.0 79.1 79.9 81.6 78.6 85.4 83.4 78.1 79.2"
   ]
  },
  {
   "cell_type": "code",
   "execution_count": 7,
   "metadata": {},
   "outputs": [
    {
     "data": {
      "text/plain": [
       "ShapiroResult(statistic=0.8473217487335205, pvalue=0.0539751797914505)"
      ]
     },
     "execution_count": 7,
     "metadata": {},
     "output_type": "execute_result"
    }
   ],
   "source": [
    "df=pd.DataFrame({'sample': [85.0, 79.0, 79.1, 79.9, 81.6, 78.6, 85.4, 83.4, 78.1, 79.2]})\n",
    "shapiro(df)"
   ]
  },
  {
   "cell_type": "markdown",
   "metadata": {},
   "source": [
    "> p-value>0.05이므로 귀무가설 기각X => 정규성을 가지고 있다고 볼 수 있다."
   ]
  },
  {
   "cell_type": "code",
   "execution_count": 8,
   "metadata": {},
   "outputs": [
    {
     "name": "stdout",
     "output_type": "stream",
     "text": [
      "1-Sample t-test\n",
      "t 통계랑 : [4.879]\n",
      "p-value : [0.001]\n"
     ]
    }
   ],
   "source": [
    "t_result=stats.ttest_1samp(df, 76.7)\n",
    "t, p=t_result.statistic.round(3), t_result.pvalue.round(3)\n",
    "print(\"1-Sample t-test\")\n",
    "print(\"t 통계랑 : {}\".format(t))\n",
    "print(\"p-value : {}\".format(p))"
   ]
  },
  {
   "cell_type": "markdown",
   "metadata": {},
   "source": [
    "> p-value < 0.05이므로 귀무가설 기각  \n",
    "> __결론 : 개선활동이 고객만족도를 변화를 시켰다고 할 수 있다.__"
   ]
  },
  {
   "cell_type": "markdown",
   "metadata": {},
   "source": [
    "# 2 Sample t-test"
   ]
  },
  {
   "cell_type": "markdown",
   "metadata": {},
   "source": [
    "### 1.\n",
    "고객만족도 확인을 위하여 A고객과 B고객에 대해 Survey하여 다음의 데이터를 얻었다.  \n",
    "A고객과 B고객의 모평균에 차이가 있다고 할 수 있는가? (유의수준 a=0.05)  \n",
    "- 데이터(10점 척도, n=20)\n",
    "    - A고객 : 6, 5, 5, 4, 6, 7, 6, 4, 5, 6, 4, 5, 5, 6, 4, 8, 6, 5, 6, 7\n",
    "    - B고객 : 7, 5, 7, 8, 7, 8, 8, 5, 7, 6, 5, 5, 6, 6, 5, 7, 9, 7, 7, 8"
   ]
  },
  {
   "cell_type": "code",
   "execution_count": 9,
   "metadata": {},
   "outputs": [],
   "source": [
    "dfA=pd.DataFrame({'sample': [6, 5, 5, 4, 6, 7, 6, 4, 5, 6, 4, 5, 5, 6, 4, 8, 6, 5, 6, 7]})\n",
    "dfB=pd.DataFrame({'sample': [7, 5, 7, 8, 7, 8, 8, 5, 7, 6, 5, 5, 6, 6, 5, 7, 9, 7, 7, 8]})"
   ]
  },
  {
   "cell_type": "code",
   "execution_count": 10,
   "metadata": {},
   "outputs": [
    {
     "name": "stdout",
     "output_type": "stream",
     "text": [
      "dfA : ShapiroResult(statistic=0.9094840288162231, pvalue=0.06230909377336502)\n",
      "dfB : ShapiroResult(statistic=0.8978105783462524, pvalue=0.03752673789858818)\n"
     ]
    }
   ],
   "source": [
    "# 정규성 검정\n",
    "print(\"dfA :\", shapiro(dfA))\n",
    "print(\"dfB :\", shapiro(dfB))"
   ]
  },
  {
   "cell_type": "markdown",
   "metadata": {},
   "source": [
    "> dfA는 정규성을 가진다고 할 수 있으나, dfB는 정규성을 가지고 있다 할 수 없다.  \n",
    "> 하지만 여기선 무시"
   ]
  },
  {
   "cell_type": "code",
   "execution_count": 11,
   "metadata": {},
   "outputs": [
    {
     "name": "stdout",
     "output_type": "stream",
     "text": [
      "2-Sample t-test\n",
      "t 통계랑 : [-3.122]\n",
      "p-value : [0.003]\n"
     ]
    }
   ],
   "source": [
    "t_result=stats.ttest_ind(dfA, dfB)\n",
    "t, p=t_result.statistic.round(3), t_result.pvalue.round(3)\n",
    "print(\"2-Sample t-test\")\n",
    "print(\"t 통계랑 : {}\".format(t))\n",
    "print(\"p-value : {}\".format(p))"
   ]
  },
  {
   "cell_type": "markdown",
   "metadata": {},
   "source": [
    "> p-value<0.05 이므로 귀무가설 기각  \n",
    "> __결론 : 고객간에 고객만족도의 차이가 있다고 볼 수 있다.__"
   ]
  },
  {
   "cell_type": "markdown",
   "metadata": {},
   "source": [
    "### 2.\n",
    "제품을 A공급자와 B공급자로부터 제품을 받아 두께를 측정해서 다음의 데이터를 얻었다.  \n",
    "공급자 간에 모평균에 차이가 있다고 할 수 있는가? (유의수준 a=0.05)"
   ]
  },
  {
   "cell_type": "code",
   "execution_count": 12,
   "metadata": {},
   "outputs": [],
   "source": [
    "dfA=pd.DataFrame({'sample': [1.883, 1.175, 1.799, 1.768, 1.711, 1.832, 1.427, 1.344]})\n",
    "dfB=pd.DataFrame({'sample': [1.435, 1.572, 1.486, 1.511, 1.457, 1.548, 1.404, 1.883]})"
   ]
  },
  {
   "cell_type": "code",
   "execution_count": 13,
   "metadata": {},
   "outputs": [
    {
     "name": "stdout",
     "output_type": "stream",
     "text": [
      "dfA : ShapiroResult(statistic=0.8691837787628174, pvalue=0.14798273146152496)\n",
      "dfB : ShapiroResult(statistic=0.7734811902046204, pvalue=0.014793740585446358)\n"
     ]
    }
   ],
   "source": [
    "# 정규성 검정\n",
    "print(\"dfA :\", shapiro(dfA))\n",
    "print(\"dfB :\", shapiro(dfB))"
   ]
  },
  {
   "cell_type": "markdown",
   "metadata": {},
   "source": [
    "> dfA는 정규성을 가진다고 할 수 있으나, dfB는 정규성을 가지고 있다 할 수 없다.  \n",
    "> 하지만 여기선 무시"
   ]
  },
  {
   "cell_type": "code",
   "execution_count": 14,
   "metadata": {},
   "outputs": [
    {
     "name": "stdout",
     "output_type": "stream",
     "text": [
      "2-Sample t-test\n",
      "t 통계랑 : [0.748]\n",
      "p-value : [0.467]\n"
     ]
    }
   ],
   "source": [
    "t_result=stats.ttest_ind(dfA, dfB)\n",
    "t, p=t_result.statistic.round(3), t_result.pvalue.round(3)\n",
    "print(\"2-Sample t-test\")\n",
    "print(\"t 통계랑 : {}\".format(t))\n",
    "print(\"p-value : {}\".format(p))"
   ]
  },
  {
   "cell_type": "markdown",
   "metadata": {},
   "source": [
    "> p-value>0.05 이므로 귀무가설 기각X  \n",
    "> __결론 : 고객간에 고객만족도의 차이가 있다고 볼 수 없다.__"
   ]
  },
  {
   "cell_type": "markdown",
   "metadata": {},
   "source": [
    "# Paired t-test"
   ]
  },
  {
   "cell_type": "markdown",
   "metadata": {},
   "source": [
    "### 1.\n",
    "회사원 10명에 대해 영어점수가 학원가기 전의 점수와 학원수강 후에 영어점수가 짝을 이루고 있다.  \n",
    "회사원들의 성적은 학원가기 전후에 대해 차이가 있는지 검정하라."
   ]
  },
  {
   "cell_type": "code",
   "execution_count": 34,
   "metadata": {},
   "outputs": [],
   "source": [
    "df1=pd.DataFrame({'before':[30, 13, 8, 17, 28, 26, 16, 45, 21, 5]})\n",
    "df2=pd.DataFrame({'after':[20, 7, 25, 4, 31, 9, 15, 25, 1, 10]})"
   ]
  },
  {
   "cell_type": "code",
   "execution_count": 35,
   "metadata": {
    "scrolled": true
   },
   "outputs": [
    {
     "name": "stdout",
     "output_type": "stream",
     "text": [
      "df1 : ShapiroResult(statistic=0.9598731994628906, pvalue=0.7844258546829224)\n",
      "df2 : ShapiroResult(statistic=0.9456412196159363, pvalue=0.617305338382721)\n"
     ]
    }
   ],
   "source": [
    "print(\"df1 :\", shapiro(df1))\n",
    "print(\"df2 :\", shapiro(df2))"
   ]
  },
  {
   "cell_type": "markdown",
   "metadata": {},
   "source": [
    "> df1, df2의 p-value 각각 0.05보다 크므로 각각 정규성을 가지고 있다고 볼 수 있다"
   ]
  },
  {
   "cell_type": "code",
   "execution_count": null,
   "metadata": {},
   "outputs": [],
   "source": []
  },
  {
   "cell_type": "code",
   "execution_count": 17,
   "metadata": {},
   "outputs": [
    {
     "name": "stdout",
     "output_type": "stream",
     "text": [
      "2-Sample t-test\n",
      "t 통계랑 : [-5.324]\n",
      "p-value : [0.]\n"
     ]
    }
   ],
   "source": [
    "t_result=stats.ttest_rel(df1, df2)\n",
    "t, p=t_result.statistic.round(3), t_result.pvalue.round(3)\n",
    "print(\"2-Sample t-test\")\n",
    "print(\"t 통계랑 : {}\".format(t))\n",
    "print(\"p-value : {}\".format(p))"
   ]
  },
  {
   "cell_type": "markdown",
   "metadata": {},
   "source": [
    "> p-value<0.05 이므로 귀무가설 기각  \n",
    "> __결론 : 학원 수강 전후의 점수 차이가 있다고 볼 수 있다.__"
   ]
  },
  {
   "cell_type": "code",
   "execution_count": 15,
   "metadata": {},
   "outputs": [],
   "source": [
    "df1=pd.DataFrame({'before':[720, 589, 780, 648, 720, 589, 780, 648, 780, 648]})\n",
    "df2=pd.DataFrame({'after':[810, 670, 790, 712, 810, 670, 790, 712, 790, 712]})\n",
    "\n",
    "# 정규성 검정\n",
    "print(\"df1 :\", shapiro(df1))\n",
    "print(\"df2 :\", shapiro(df2))\n",
    "\n",
    "> df1는 정규성을 가진다고 할 수 있으나, df2는 정규성을 가지고 있다 할 수 없다.  \n",
    "> 하지만 여기선 무시"
   ]
  },
  {
   "cell_type": "markdown",
   "metadata": {},
   "source": [
    "### 2.\n",
    "회사원 10명에 대해 영어점수가 학원가기 전의 점수와 학원수강 후에 영어점수가 짝을 이루고 있다.  \n",
    "회사원들의 성적은 학원가기 전후에 대해 차이가 있는지 검정하라."
   ]
  },
  {
   "cell_type": "code",
   "execution_count": 18,
   "metadata": {},
   "outputs": [],
   "source": [
    "df1=pd.DataFrame({'before':[720, 589, 780, 648, 720, 589, 780, 648, 780, 648]})\n",
    "df2=pd.DataFrame({'after':[710, 580, 787, 712, 750, 600, 782, 670, 790, 680]})"
   ]
  },
  {
   "cell_type": "code",
   "execution_count": 19,
   "metadata": {},
   "outputs": [
    {
     "name": "stdout",
     "output_type": "stream",
     "text": [
      "df1 : ShapiroResult(statistic=0.871309757232666, pvalue=0.10353939980268478)\n",
      "df2 : ShapiroResult(statistic=0.9132594466209412, pvalue=0.304139107465744)\n"
     ]
    }
   ],
   "source": [
    "# 정규성 검정\n",
    "print(\"df1 :\", shapiro(df1))\n",
    "print(\"df2 :\", shapiro(df2))"
   ]
  },
  {
   "cell_type": "markdown",
   "metadata": {},
   "source": [
    "> df1, df2의 p-value 각각 0.05보다 크므로 각각 정규성을 가지고 있다고 볼 수 있다"
   ]
  },
  {
   "cell_type": "code",
   "execution_count": 20,
   "metadata": {},
   "outputs": [
    {
     "name": "stdout",
     "output_type": "stream",
     "text": [
      "2-Sample t-test\n",
      "t 통계랑 : [-2.266]\n",
      "p-value : [0.0497]\n"
     ]
    }
   ],
   "source": [
    "t_result=stats.ttest_rel(df1, df2)\n",
    "t, p=t_result.statistic.round(3), t_result.pvalue.round(4)\n",
    "print(\"2-Sample t-test\")\n",
    "print(\"t 통계랑 : {}\".format(t))\n",
    "print(\"p-value : {}\".format(p))"
   ]
  },
  {
   "cell_type": "markdown",
   "metadata": {},
   "source": [
    "> p-value<0.05 이므로 귀무가설 기각  \n",
    "> __결론 : 학원 수강 전후의 점수 차이가 있다고 볼 수 있다.__"
   ]
  },
  {
   "cell_type": "markdown",
   "metadata": {},
   "source": [
    "# 1 Proportion test"
   ]
  },
  {
   "cell_type": "markdown",
   "metadata": {},
   "source": [
    "### 1.\n",
    "고급강 A제품을 가공하는 국내 고객사는 전체 중에 10% 정도가 된다.  \n",
    "한 해 동안 A제품의 품질에 대해 노력을 하여 전체고객 중 100여 개의 업체를 표본으로하여  \n",
    "가공품질을 확인한 후 15개의 업체가 만족을 표현했다.   \n",
    "과연 품질개선을 한 결과로 기존보다 전체 고객 중 사용비율의 차이가 있는 것인가? (유의수준(a) = 0.05)"
   ]
  },
  {
   "cell_type": "code",
   "execution_count": 21,
   "metadata": {},
   "outputs": [
    {
     "name": "stdout",
     "output_type": "stream",
     "text": [
      "1 Proportion test\n",
      "z:1.400\n",
      "p:0.161\n"
     ]
    }
   ],
   "source": [
    "count=15\n",
    "n=100\n",
    "value=0.1\n",
    "t, p=proportions_ztest(count, n, value)\n",
    "print(\"1 Proportion test\")\n",
    "print(\"z:{0:0.3f}\".format(t))\n",
    "print('p:{0:0.3f}'.format(p))"
   ]
  },
  {
   "cell_type": "markdown",
   "metadata": {},
   "source": [
    "> p-value > 0.05이므로 귀무가설 기각X  \n",
    "> __결론 : 고급강 A제품에 대해 품질개선 결과 기존 대비 사용비율이 차이가 있다고 할 수 없다.__"
   ]
  },
  {
   "cell_type": "markdown",
   "metadata": {},
   "source": [
    "### 2.\n",
    "동전이 정상적인가를 검정하기 위해 100번을 던져본 결과, 앞면이 40번 나왔으며 뒷면이 60번 나왔다.  \n",
    "이 동전은 정상인가를 유의수준 a=0.05로써 검정하라.  \n",
    "정상적인 동전을 던질 때, 앞면이 나올 확률을 50%이다."
   ]
  },
  {
   "cell_type": "code",
   "execution_count": 22,
   "metadata": {},
   "outputs": [
    {
     "name": "stdout",
     "output_type": "stream",
     "text": [
      "1 Proportion test\n",
      "z:-2.041\n",
      "p:0.041\n"
     ]
    }
   ],
   "source": [
    "count=40\n",
    "n=100\n",
    "value=0.5\n",
    "t, p=proportions_ztest(count, n, value)\n",
    "print(\"1 Proportion test\")\n",
    "print(\"z:{0:0.3f}\".format(t))\n",
    "print('p:{0:0.3f}'.format(p))"
   ]
  },
  {
   "cell_type": "markdown",
   "metadata": {},
   "source": [
    "> p-value < 0.05이므로 귀무가설 기각  \n",
    "> __결론 : 고급강 A제품에 대해 품질개선 결과 기존 대비 사용비율이 차이가 있다고 할 수 있다.__"
   ]
  },
  {
   "cell_type": "markdown",
   "metadata": {},
   "source": [
    "# 2 Proportion test"
   ]
  },
  {
   "cell_type": "markdown",
   "metadata": {},
   "source": [
    "### 1.\n",
    "동일한 제품을 생산하는 두 공장에서 불량률을 측정한 결과 아래와 같다.\n",
    "두 공정의 불량률이 같다고 할 수 있는가?  \n",
    "(유의수준(a)=0.05)\n",
    "- 공장 1 : N1=1000, X1=4\n",
    "- 공장 2 : N2=1200, X2=1"
   ]
  },
  {
   "cell_type": "code",
   "execution_count": 23,
   "metadata": {},
   "outputs": [
    {
     "name": "stdout",
     "output_type": "stream",
     "text": [
      "2 Proportion test\n",
      "z:1.553\n",
      "p:0.120\n"
     ]
    }
   ],
   "source": [
    "count=np.array([4, 1])\n",
    "n=np.array([1000, 1200])\n",
    "t, p=proportions_ztest(count, n)\n",
    "print(\"2 Proportion test\")\n",
    "print(\"z:{0:0.3f}\".format(t))\n",
    "print('p:{0:0.3f}'.format(p))"
   ]
  },
  {
   "cell_type": "markdown",
   "metadata": {},
   "source": [
    "> p-value>0.05이므로 귀무가설 기각X  \n",
    "> __결론 : 두 공정의 불량률이 차이가 있다고 할 수 없다.__"
   ]
  },
  {
   "cell_type": "markdown",
   "metadata": {},
   "source": [
    "### 2.\n",
    "동일한 제품을 생산하는 두 공장에서 불량률을 측정한 결과 아래와 같다.  \n",
    "두 공정의 불량률이 같다고 할 수 있는가?  \n",
    "(유의수준(a)=0.05)\n",
    "- 공장 A : N1=1200, X1=14\n",
    "- 공장 B : N2=1200, X2=5"
   ]
  },
  {
   "cell_type": "code",
   "execution_count": 24,
   "metadata": {},
   "outputs": [
    {
     "name": "stdout",
     "output_type": "stream",
     "text": [
      "2 Proportion test\n",
      "z:2.073\n",
      "p:0.038\n"
     ]
    }
   ],
   "source": [
    "count=np.array([14, 5])\n",
    "n=np.array([1200, 1200])\n",
    "t, p=proportions_ztest(count, n)\n",
    "print(\"2 Proportion test\")\n",
    "print(\"z:{0:0.3f}\".format(t))\n",
    "print('p:{0:0.3f}'.format(p))"
   ]
  },
  {
   "cell_type": "markdown",
   "metadata": {},
   "source": [
    "> p-value<0.05이므로 귀무가설 기각  \n",
    "> __결론 : 두 공정의 불량률이 차이가 있다고 할 수 있다.__"
   ]
  },
  {
   "cell_type": "markdown",
   "metadata": {},
   "source": [
    "# 카이제곱 검정"
   ]
  },
  {
   "cell_type": "markdown",
   "metadata": {},
   "source": [
    "### 1.\n",
    "근무조별로 철강제품을 생산하고 있는데, 생산 제품의 규격이 3가지 종류가 있따.  \n",
    "근무조별로 제품을 생산하는 부하는 차이가 있겠는가? (유의수준 0.05)"
   ]
  },
  {
   "cell_type": "code",
   "execution_count": 41,
   "metadata": {},
   "outputs": [
    {
     "name": "stdout",
     "output_type": "stream",
     "text": [
      "chi-square test\n",
      "chisq:7.878\n",
      "p:0.019\n",
      "degree pf freedom: 2\n",
      "expected value: \n",
      "[[200.928 209.898 187.174]\n",
      " [135.072 141.102 125.826]]\n"
     ]
    }
   ],
   "source": [
    "df=pd.DataFrame({'찬성':[182, 213, 203], '반대' : [154, 138, 110]})\n",
    "\n",
    "chi, p, dof, expected=stats.chi2_contingency(df.T)\n",
    "print(\"chi-square test\")\n",
    "print('chisq:{0:0.3f}'.format(chi))\n",
    "print('p:{0:0.3f}'.format(p))\n",
    "print('degree pf freedom: {}'.format(dof))\n",
    "print('expected value: \\n{}'.format(expected.round(3)))"
   ]
  },
  {
   "cell_type": "markdown",
   "metadata": {},
   "source": [
    "귀무가설 : 법안에 대한 찬반의사와 소득수준은 서로 독립이다.  \n",
    "대립가설 : 법안에 대한 찬반의사와 소득수준은 서로 독립이 아니다.\n",
    "\n",
    "__결론__\n",
    "p-value < 0.05(유의수준) 이므로 귀무가설을 기각\n",
    "=> 법안에 대한 찬반의사와 소득수준과는 서로 독립이라고 할 수 없다."
   ]
  },
  {
   "cell_type": "code",
   "execution_count": 25,
   "metadata": {},
   "outputs": [
    {
     "name": "stdout",
     "output_type": "stream",
     "text": [
      "chi-square test\n",
      "chisq:13.366\n",
      "p:0.038\n",
      "degree pf freedom: 6\n",
      "expected value: \n",
      "[[258.333 276.333 230.667 234.667]\n",
      " [258.333 276.333 230.667 234.667]\n",
      " [258.333 276.333 230.667 234.667]]\n"
     ]
    }
   ],
   "source": [
    "df=pd.DataFrame({'HSG':[270, 260, 236, 234], 'SS':[228, 285, 225, 262], 'SPA':[277, 284,231,208]})\n",
    "\n",
    "chi, p, dof, expected=stats.chi2_contingency(df.T)\n",
    "print(\"chi-square test\")\n",
    "print('chisq:{0:0.3f}'.format(chi))\n",
    "print('p:{0:0.3f}'.format(p))\n",
    "print('degree pf freedom: {}'.format(dof))\n",
    "print('expected value: \\n{}'.format(expected.round(3)))"
   ]
  },
  {
   "cell_type": "markdown",
   "metadata": {},
   "source": [
    "> p-value<0.05이므로 귀무가설 기각  \n",
    "> __결론 : 근무조별로 제품을 생산하는 부하 차이가 있다고 할 수 있다.__"
   ]
  },
  {
   "cell_type": "markdown",
   "metadata": {},
   "source": [
    "### 2.\n",
    "노트북 컴퓨터의 6가지 제품(A, B, C, D, E, F)에 대하여 7가지 제품의 이미지를 중복 선택 할 수 있도록   \n",
    "32명의 소비자를 대상으로 설문 조사한 Table이다.  \n",
    "각 제품에 대해 이미지에 대해 차이가 있겠는가? (유의수준 0.05)"
   ]
  },
  {
   "cell_type": "code",
   "execution_count": 26,
   "metadata": {},
   "outputs": [
    {
     "name": "stdout",
     "output_type": "stream",
     "text": [
      "chi-square test\n",
      "chisq:98.274\n",
      "p:0.000\n",
      "degree pf freedom: 30\n",
      "expected value: \n",
      "[[11.004  8.528 10.454  8.253  7.978  8.803  7.978]\n",
      " [ 8.21   6.362  7.799  6.157  5.952  6.568  5.952]\n",
      " [ 5.24   4.061  4.978  3.93   3.799  4.192  3.799]\n",
      " [ 3.843  2.978  3.651  2.882  2.786  3.074  2.786]\n",
      " [ 1.921  1.489  1.825  1.441  1.393  1.537  1.393]\n",
      " [ 9.782  7.581  9.293  7.336  7.092  7.825  7.092]]\n"
     ]
    }
   ],
   "source": [
    "df = pd.DataFrame({'A': [18,  1, 8, 7, 10, 9, 10], 'B': [8, 2, 14, 5, 5, 9, 4],\n",
    "                   'C': [4, 1, 3, 4, 9, 5, 4],'D': [4, 1, 2, 3, 2, 7, 3],\n",
    "                   'E': [3, 1, 3, 1, 1, 1, 1], 'F': [3, 25, 8, 10, 2, 1, 7]})\n",
    "chi, p, dof, expected=stats.chi2_contingency(df.T)\n",
    "print(\"chi-square test\")\n",
    "print('chisq:{0:0.3f}'.format(chi))\n",
    "print('p:{0:0.3f}'.format(p))\n",
    "print('degree pf freedom: {}'.format(dof))\n",
    "print('expected value: \\n{}'.format(expected.round(3)))"
   ]
  },
  {
   "cell_type": "markdown",
   "metadata": {},
   "source": [
    "> p-value<0.05이므로 귀무가설 기각  \n",
    "> __결론 : 각 제품에 대해 이미지에 대한 차이가 있다고 할 수 있다.__"
   ]
  },
  {
   "cell_type": "markdown",
   "metadata": {},
   "source": [
    "# One way ANOVA"
   ]
  },
  {
   "cell_type": "markdown",
   "metadata": {},
   "source": [
    "### 1.\n",
    "OO회사 마케팅실 그룹별 직원들의 TOEIC 성적에 차이가 있는지를 알고 싶다.  \n",
    "A Group, B Group, C Group, 간의 토익 점수의 차이 여부를 검정하세요. (유의수주(a) = 0.05)"
   ]
  },
  {
   "cell_type": "code",
   "execution_count": 27,
   "metadata": {},
   "outputs": [
    {
     "data": {
      "text/plain": [
       "<AxesSubplot:>"
      ]
     },
     "execution_count": 27,
     "metadata": {},
     "output_type": "execute_result"
    },
    {
     "data": {
      "image/png": "[encoded data removed]",
      "text/plain": [
       "<Figure size 432x288 with 1 Axes>"
      ]
     },
     "metadata": {
      "needs_background": "light"
     },
     "output_type": "display_data"
    }
   ],
   "source": [
    "df = pd.DataFrame({'A': [892, 623, 721, 678, 723, 790, 720, 670, 690, 771],'B': [721, 821, 910, 678, 723, 790, 711, 790, 745, 891],\n",
    "                   'C': [621, 915, 888, 721, 894, 834, 841, 912, 845, 889]})\n",
    "\n",
    "df.boxplot(['A', 'B', 'C'])"
   ]
  },
  {
   "cell_type": "code",
   "execution_count": 28,
   "metadata": {},
   "outputs": [
    {
     "name": "stdout",
     "output_type": "stream",
     "text": [
      "One-way\n",
      "F 통계랑:4.263\n",
      "p-value:0.025\n"
     ]
    }
   ],
   "source": [
    "f_result=stats.f_oneway(df['A'], df['B'], df['C'])\n",
    "\n",
    "f,p=f_result.statistic.round(3), f_result.pvalue.round(3)\n",
    "print(\"One-way\")\n",
    "print(\"F 통계랑:{}\".format(f))\n",
    "print(\"p-value:{}\".format(p))"
   ]
  },
  {
   "cell_type": "code",
   "execution_count": 36,
   "metadata": {},
   "outputs": [],
   "source": [
    "df1=pd.DataFrame({'before':[30, 13, 8, 17, 28, 26, 16, 45, 21, 5]})\n",
    "df2=pd.DataFrame({'after':[20, 7, 25, 4, 31, 9, 15, 25, 1, 10]})"
   ]
  },
  {
   "cell_type": "code",
   "execution_count": 37,
   "metadata": {},
   "outputs": [
    {
     "name": "stdout",
     "output_type": "stream",
     "text": [
      "df1 : ShapiroResult(statistic=0.9598731994628906, pvalue=0.7844258546829224)\n",
      "df2 : ShapiroResult(statistic=0.9456412196159363, pvalue=0.617305338382721)\n"
     ]
    }
   ],
   "source": [
    "# 정규성 검정\n",
    "print(\"df1 :\", shapiro(df1))\n",
    "print(\"df2 :\", shapiro(df2))"
   ]
  },
  {
   "cell_type": "markdown",
   "metadata": {},
   "source": [
    "> df1, df2의 p-value 각각 0.05보다 크므로 각각 정규성을 가지고 있다고 볼 수 있다"
   ]
  },
  {
   "cell_type": "code",
   "execution_count": 40,
   "metadata": {},
   "outputs": [
    {
     "name": "stdout",
     "output_type": "stream",
     "text": [
      "One-way\n",
      "F 통계랑:[1.585]\n",
      "p-value:[0.224]\n"
     ]
    }
   ],
   "source": [
    "f_result=stats.f_oneway(df1, df2)\n",
    "f,p=f_result.statistic.round(3), f_result.pvalue.round(3)\n",
    "print(\"One-way\")\n",
    "print(\"F 통계랑:{}\".format(f))\n",
    "print(\"p-value:{}\".format(p))"
   ]
  },
  {
   "cell_type": "markdown",
   "metadata": {},
   "source": [
    "> p-value<0.05이므로 귀무가설 기각  \n",
    "> __결론 : 그룹간의 토익 점수가 차이가 있다고 할 수 있다.__"
   ]
  },
  {
   "cell_type": "markdown",
   "metadata": {},
   "source": [
    "### 2.\n",
    "철강의 청정도를 높이기 위해 제강공정에서 2차 정련을 실시하는데,  \n",
    "강종별과 type에 따라 2차정련 시간에 차이가 있는지 검정하라 (유의수준 0.05)\n",
    "- (data set:ANOVA.csv)"
   ]
  },
  {
   "cell_type": "code",
   "execution_count": 29,
   "metadata": {},
   "outputs": [
    {
     "data": {
      "text/html": [
       "<div>\n",
       "<style scoped>\n",
       "    .dataframe tbody tr th:only-of-type {\n",
       "        vertical-align: middle;\n",
       "    }\n",
       "\n",
       "    .dataframe tbody tr th {\n",
       "        vertical-align: top;\n",
       "    }\n",
       "\n",
       "    .dataframe thead th {\n",
       "        text-align: right;\n",
       "    }\n",
       "</style>\n",
       "<table border=\"1\" class=\"dataframe\">\n",
       "  <thead>\n",
       "    <tr style=\"text-align: right;\">\n",
       "      <th></th>\n",
       "      <th>time</th>\n",
       "      <th>charge</th>\n",
       "      <th>gangjong</th>\n",
       "      <th>type</th>\n",
       "    </tr>\n",
       "  </thead>\n",
       "  <tbody>\n",
       "    <tr>\n",
       "      <th>0</th>\n",
       "      <td>32.2</td>\n",
       "      <td>A</td>\n",
       "      <td>a</td>\n",
       "      <td>a</td>\n",
       "    </tr>\n",
       "    <tr>\n",
       "      <th>1</th>\n",
       "      <td>30.4</td>\n",
       "      <td>B</td>\n",
       "      <td>a</td>\n",
       "      <td>a</td>\n",
       "    </tr>\n",
       "    <tr>\n",
       "      <th>2</th>\n",
       "      <td>33.6</td>\n",
       "      <td>C</td>\n",
       "      <td>a</td>\n",
       "      <td>a</td>\n",
       "    </tr>\n",
       "    <tr>\n",
       "      <th>3</th>\n",
       "      <td>36.4</td>\n",
       "      <td>D</td>\n",
       "      <td>a</td>\n",
       "      <td>a</td>\n",
       "    </tr>\n",
       "    <tr>\n",
       "      <th>4</th>\n",
       "      <td>33.9</td>\n",
       "      <td>E</td>\n",
       "      <td>a</td>\n",
       "      <td>a</td>\n",
       "    </tr>\n",
       "  </tbody>\n",
       "</table>\n",
       "</div>"
      ],
      "text/plain": [
       "   time charge gangjong type\n",
       "0  32.2      A        a    a\n",
       "1  30.4      B        a    a\n",
       "2  33.6      C        a    a\n",
       "3  36.4      D        a    a\n",
       "4  33.9      E        a    a"
      ]
     },
     "execution_count": 29,
     "metadata": {},
     "output_type": "execute_result"
    }
   ],
   "source": [
    "data=pd.read_csv(\"../data/ANOVA.csv\")\n",
    "data.head()"
   ]
  },
  {
   "cell_type": "markdown",
   "metadata": {},
   "source": [
    "- 강종별"
   ]
  },
  {
   "cell_type": "code",
   "execution_count": 30,
   "metadata": {},
   "outputs": [
    {
     "name": "stdout",
     "output_type": "stream",
     "text": [
      "One-way\n",
      "F 통계랑:4.172\n",
      "p-value:0.019\n"
     ]
    },
    {
     "data": {
      "image/png": "[encoded data removed]",
      "text/plain": [
       "<Figure size 432x288 with 1 Axes>"
      ]
     },
     "metadata": {
      "needs_background": "light"
     },
     "output_type": "display_data"
    }
   ],
   "source": [
    "data.boxplot(by='gangjong')\n",
    "\n",
    "df1_a=data[data['gangjong']=='a']\n",
    "df1_b=data[data['gangjong']=='b']\n",
    "df1_c=data[data['gangjong']=='c']\n",
    "df1_d=data[data['gangjong']=='d']\n",
    "\n",
    "f_result=stats.f_oneway(df1_a['time'], df1_b['time'], df1_c['time'], df1_d['time'])\n",
    "f,p=f_result.statistic.round(3), f_result.pvalue.round(3)\n",
    "print(\"One-way\")\n",
    "print(\"F 통계랑:{}\".format(f))\n",
    "print(\"p-value:{}\".format(p))"
   ]
  },
  {
   "cell_type": "markdown",
   "metadata": {},
   "source": [
    "> p-value < 0.05이므로 귀무가설 기각  \n",
    "> __결론 : 강종별에 따라 2차 정련 시간에 차이가 있다고 할 수 있다.__"
   ]
  },
  {
   "cell_type": "markdown",
   "metadata": {},
   "source": [
    "- type별"
   ]
  },
  {
   "cell_type": "code",
   "execution_count": 31,
   "metadata": {},
   "outputs": [
    {
     "name": "stdout",
     "output_type": "stream",
     "text": [
      "One-way\n",
      "F 통계랑:9.654\n",
      "p-value:0.005\n"
     ]
    },
    {
     "data": {
      "image/png": "[encoded data removed]",
      "text/plain": [
       "<Figure size 432x288 with 1 Axes>"
      ]
     },
     "metadata": {
      "needs_background": "light"
     },
     "output_type": "display_data"
    }
   ],
   "source": [
    "data.boxplot(by='type')\n",
    "\n",
    "df1_a=data[data['type']=='a']\n",
    "df1_b=data[data['type']=='b']\n",
    "\n",
    "f_result=stats.f_oneway(df1_a['time'], df1_b['time'])\n",
    "f,p=f_result.statistic.round(3), f_result.pvalue.round(3)\n",
    "print(\"One-way\")\n",
    "print(\"F 통계랑:{}\".format(f))\n",
    "print(\"p-value:{}\".format(p))"
   ]
  },
  {
   "cell_type": "markdown",
   "metadata": {},
   "source": [
    "> p-value < 0.05이므로 귀무가설 기각  \n",
    "> __결론 : type별에 따라 2차 정련 시간에 차이가 있다고 할 수 있다.__"
   ]
  },
  {
   "cell_type": "code",
   "execution_count": 32,
   "metadata": {},
   "outputs": [
    {
     "name": "stdout",
     "output_type": "stream",
     "text": [
      "전표처리에 드는 시간이 35분 이상 소요될 확률 : 2.3%\n"
     ]
    }
   ],
   "source": [
    "data=pd.DataFrame({'A':[25, 30, 20, 23, 27, 33, 23, 20, 25, 24],\n",
    "                  'B' : [31, 30, 34, 30, 28, 31, 30, 31, 32, 30],\n",
    "                  'C' : [19, 21, 27, 25, 25, 30, 26, 29, 30, 24],\n",
    "                  'D' : [18, 25, 16, 19, 20, 20, 25, 22, 23, 17]})\n",
    "mu=data.mean().mean()\n",
    "s=data.values.std()\n",
    "x=35\n",
    "prob=stats.norm.cdf(x, mu, s)\n",
    "print(\"전표처리에 드는 시간이 {0}분 이상 소요될 확률 : {1:.1f}%\".format(x, (1-prob)*100))"
   ]
  },
  {
   "cell_type": "code",
   "execution_count": 33,
   "metadata": {},
   "outputs": [
    {
     "data": {
      "text/plain": [
       "4.76418933292958"
      ]
     },
     "execution_count": 33,
     "metadata": {},
     "output_type": "execute_result"
    }
   ],
   "source": [
    "data.values.std()"
   ]
  },
  {
   "cell_type": "code",
   "execution_count": null,
   "metadata": {},
   "outputs": [],
   "source": []
  }
 ],
 "metadata": {
  "kernelspec": {
   "display_name": "Python 3",
   "language": "python",
   "name": "python3"
  },
  "language_info": {
   "codemirror_mode": {
    "name": "ipython",
    "version": 3
   },
   "file_extension": ".py",
   "mimetype": "text/x-python",
   "name": "python",
   "nbconvert_exporter": "python",
   "pygments_lexer": "ipython3",
   "version": "3.8.5"
  }
 },
 "nbformat": 4,
 "nbformat_minor": 4
}
