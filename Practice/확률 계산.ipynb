{
 "cells": [
  {
   "cell_type": "code",
   "execution_count": 1,
   "metadata": {},
   "outputs": [],
   "source": [
    "import numpy as np\n",
    "from scipy import stats\n",
    "import scipy.stats\n",
    "import pandas as pd\n",
    "import statsmodels.api as sm\n",
    "import matplotlib.pyplot as plt\n",
    "import seaborn as sns\n",
    "from statsmodels.stats.proportion import proportions_ztest"
   ]
  },
  {
   "cell_type": "markdown",
   "metadata": {},
   "source": [
    "# 정규분포"
   ]
  },
  {
   "cell_type": "markdown",
   "metadata": {},
   "source": [
    "### 1.\n",
    "A/S 작업을 수행하는데 설리는 시간을 측정해 본 결과 평균 115분, 표준편차 20분이 소요된다는 것을 알았음.  \n",
    "만일 A/S 작업시간의 허용범위가 135분 이내라면 135분 이상 걸리는 A/S 작업비율은 어느 정도일까요?"
   ]
  },
  {
   "cell_type": "code",
   "execution_count": 2,
   "metadata": {},
   "outputs": [
    {
     "name": "stdout",
     "output_type": "stream",
     "text": [
      "135분 이상 걸리는 A/S 작업 비율 : 15.9%\n"
     ]
    }
   ],
   "source": [
    "mu=115\n",
    "sigma=20\n",
    "x=135\n",
    "prob=stats.norm.cdf(x, mu, sigma)\n",
    "print(\"{0}분 이상 걸리는 A/S 작업 비율 : {1:.1f}%\".format(x, (1-prob)*100))"
   ]
  },
  {
   "cell_type": "markdown",
   "metadata": {},
   "source": [
    "### 2.\n",
    "대한민국 남성의 20~30 대 키를 측정한 결과, 평균 175cm, 표준편차 5cm이다.  \n",
    "나의 키가 180cm 일 경우에 나는 몇 % 범위에 위치할까요?\n"
   ]
  },
  {
   "cell_type": "code",
   "execution_count": 3,
   "metadata": {},
   "outputs": [
    {
     "name": "stdout",
     "output_type": "stream",
     "text": [
      "나의 키는 84.1%에 위치합니다.\n"
     ]
    }
   ],
   "source": [
    "mu=175\n",
    "sigma=5\n",
    "x=180\n",
    "prob=stats.norm.cdf(x, mu, sigma)\n",
    "print(\"나의 키는 {0:.1f}%에 위치합니다.\".format(prob*100))"
   ]
  },
  {
   "cell_type": "markdown",
   "metadata": {},
   "source": [
    "### 3.\n",
    "어떤 자동차 1리터당 주행거리가 평균 12km, 표준편차 3km인 정규분포를 이룬다고 하자.  \n",
    "1) 1리터를 가지고 12km 이상 15km 이하 달릴 확률은 얼마인가요?  \n",
    "2) 1리터를 가지고 15km 이상을 달릴 확률을 얼마인가요?  \n"
   ]
  },
  {
   "cell_type": "code",
   "execution_count": 4,
   "metadata": {},
   "outputs": [
    {
     "name": "stdout",
     "output_type": "stream",
     "text": [
      "12km 이상 15km 이하를 달릴 확률을 34.1% 에 해당함\n",
      "15km 이상을 달릴 확률을 15.9% 에 해당함\n"
     ]
    }
   ],
   "source": [
    "mu=12\n",
    "sigma=3\n",
    "prob_12=stats.norm.cdf(12, mu, sigma)\n",
    "prob_15=stats.norm.cdf(15, mu, sigma)\n",
    "print(\"{0}km 이상 {1}km 이하를 달릴 확률을 {2:.1f}% 에 해당함\".format(12, 15, (prob_15-prob_12)*100))\n",
    "print(\"{0}km 이상을 달릴 확률을 {1:.1f}% 에 해당함\".format(15, (1-prob_15)*100))"
   ]
  },
  {
   "cell_type": "markdown",
   "metadata": {},
   "source": [
    "# T 분포"
   ]
  },
  {
   "cell_type": "markdown",
   "metadata": {},
   "source": [
    "### 1.\n",
    "확률변수 t는 자유도가 5인 t-분포를 따른다.  \n",
    "t 값이 1.53일 때, P(T<=t)을 계산하시오.\n"
   ]
  },
  {
   "cell_type": "code",
   "execution_count": 5,
   "metadata": {},
   "outputs": [
    {
     "name": "stdout",
     "output_type": "stream",
     "text": [
      "P(T<=1.53): 0.907\n"
     ]
    }
   ],
   "source": [
    "t=1.53\n",
    "df=5\n",
    "prob=stats.t.cdf(t, df)\n",
    "print(\"P(T<={0}): {1:.3f}\".format(t, prob))"
   ]
  },
  {
   "cell_type": "markdown",
   "metadata": {},
   "source": [
    "### 2.\n",
    "확률변수 t는 자유도가 100인 t-분포를 따른다.  \n",
    "t 값이 2.0일 때, P(T<=t)을 계산하시오."
   ]
  },
  {
   "cell_type": "code",
   "execution_count": 6,
   "metadata": {},
   "outputs": [
    {
     "name": "stdout",
     "output_type": "stream",
     "text": [
      "P(T<=2.0): 0.976\n"
     ]
    }
   ],
   "source": [
    "t=2.0\n",
    "df=100\n",
    "prob=stats.t.cdf(t, df)\n",
    "print(\"P(T<={0}): {1:.3f}\".format(t, prob))"
   ]
  },
  {
   "cell_type": "markdown",
   "metadata": {},
   "source": [
    "# 카이스트 분포"
   ]
  },
  {
   "cell_type": "markdown",
   "metadata": {},
   "source": [
    "### 1.\n",
    "X^2 분포 그리기 연습(자유도 변화에 따른 분포 변화 이해하기)  \n",
    "- Random Data 생성 : n=1000, degree of freedom = 10  \n",
    "- Random Data 생성 : n=1000, degree of freedom = 40  \n"
   ]
  },
  {
   "cell_type": "code",
   "execution_count": 7,
   "metadata": {},
   "outputs": [
    {
     "name": "stderr",
     "output_type": "stream",
     "text": [
      "C:\\Users\\82105\\Anaconda3\\lib\\site-packages\\seaborn\\distributions.py:2551: FutureWarning: `distplot` is a deprecated function and will be removed in a future version. Please adapt your code to use either `displot` (a figure-level function with similar flexibility) or `histplot` (an axes-level function for histograms).\n",
      "  warnings.warn(msg, FutureWarning)\n",
      "C:\\Users\\82105\\Anaconda3\\lib\\site-packages\\seaborn\\distributions.py:2551: FutureWarning: `distplot` is a deprecated function and will be removed in a future version. Please adapt your code to use either `displot` (a figure-level function with similar flexibility) or `histplot` (an axes-level function for histograms).\n",
      "  warnings.warn(msg, FutureWarning)\n"
     ]
    },
    {
     "data": {
      "text/plain": [
       "<AxesSubplot:ylabel='Density'>"
      ]
     },
     "execution_count": 7,
     "metadata": {},
     "output_type": "execute_result"
    },
    {
     "data": {
      "image/png": "[encoded data removed]",
      "text/plain": [
       "<Figure size 432x288 with 1 Axes>"
      ]
     },
     "metadata": {
      "needs_background": "light"
     },
     "output_type": "display_data"
    }
   ],
   "source": [
    "np.random.seed(1234)\n",
    "chisq_df10=np.random.chisquare(10, 1000)\n",
    "chisq_df40=np.random.chisquare(40, 1000)\n",
    "sns.distplot(chisq_df10, fit=stats.norm, kde=True)\n",
    "sns.distplot(chisq_df40, fit=stats.norm, kde=True)"
   ]
  },
  {
   "cell_type": "markdown",
   "metadata": {},
   "source": [
    "### 2.\n",
    "X^2 분포 그리기 연습(자유도 변화에 따른 분포 변화 이해하기)  \n",
    "- Random Data 생성 : n=1000, degree of freedom = 3  \n",
    "- Random Data 생성 : n=1000, degree of freedom = 50  \n"
   ]
  },
  {
   "cell_type": "code",
   "execution_count": 8,
   "metadata": {},
   "outputs": [
    {
     "name": "stderr",
     "output_type": "stream",
     "text": [
      "C:\\Users\\82105\\Anaconda3\\lib\\site-packages\\seaborn\\distributions.py:2551: FutureWarning: `distplot` is a deprecated function and will be removed in a future version. Please adapt your code to use either `displot` (a figure-level function with similar flexibility) or `histplot` (an axes-level function for histograms).\n",
      "  warnings.warn(msg, FutureWarning)\n",
      "C:\\Users\\82105\\Anaconda3\\lib\\site-packages\\seaborn\\distributions.py:2551: FutureWarning: `distplot` is a deprecated function and will be removed in a future version. Please adapt your code to use either `displot` (a figure-level function with similar flexibility) or `histplot` (an axes-level function for histograms).\n",
      "  warnings.warn(msg, FutureWarning)\n"
     ]
    },
    {
     "data": {
      "text/plain": [
       "<AxesSubplot:ylabel='Density'>"
      ]
     },
     "execution_count": 8,
     "metadata": {},
     "output_type": "execute_result"
    },
    {
     "data": {
      "image/png": "[encoded data removed]",
      "text/plain": [
       "<Figure size 432x288 with 1 Axes>"
      ]
     },
     "metadata": {
      "needs_background": "light"
     },
     "output_type": "display_data"
    }
   ],
   "source": [
    "np.random.seed(1234)\n",
    "chisq_df3=np.random.chisquare(3, 1000)\n",
    "chisq_df50=np.random.chisquare(50, 1000)\n",
    "sns.distplot(chisq_df3, fit=stats.norm, kde=True)\n",
    "sns.distplot(chisq_df50, fit=stats.norm, kde=True)"
   ]
  },
  {
   "cell_type": "markdown",
   "metadata": {},
   "source": [
    "### 3.\n",
    "확률변수 X^2는 자유도가 30인 X^2-분포를 따른다.  \n",
    "X^2값이 10일 때, P(X<=x^2)을 계산하시오."
   ]
  },
  {
   "cell_type": "code",
   "execution_count": 9,
   "metadata": {},
   "outputs": [
    {
     "name": "stdout",
     "output_type": "stream",
     "text": [
      "P(X<=10):0.0002\n"
     ]
    }
   ],
   "source": [
    "chisq=10\n",
    "df=30\n",
    "prob=stats.chi2.cdf(chisq, df)\n",
    "print(\"P(X<={0}):{1:.4f}\".format(chisq, prob))"
   ]
  },
  {
   "cell_type": "markdown",
   "metadata": {},
   "source": [
    "### 4.\n",
    "확률변수 X^2는 자유도가 8인 X^2-분포를 따른다.  \n",
    "X^2값이 3.0일 때, P(X<=x^2)을 계산하시오."
   ]
  },
  {
   "cell_type": "code",
   "execution_count": 10,
   "metadata": {},
   "outputs": [
    {
     "name": "stdout",
     "output_type": "stream",
     "text": [
      "P(X<=3.0):0.0656\n"
     ]
    }
   ],
   "source": [
    "chisq=3.0\n",
    "df=8\n",
    "prob=stats.chi2.cdf(chisq, df)\n",
    "print(\"P(X<={0}):{1:.4f}\".format(chisq, prob))"
   ]
  },
  {
   "cell_type": "markdown",
   "metadata": {},
   "source": [
    "# F 분포"
   ]
  },
  {
   "cell_type": "markdown",
   "metadata": {},
   "source": [
    "### 5. \n",
    "확률변수 F는 각각 자유도가 15, 15인 F-분포를 따른다.  \n",
    "F 값이 2.0일 때, P(X<=F)을 계산하시오."
   ]
  },
  {
   "cell_type": "code",
   "execution_count": 11,
   "metadata": {},
   "outputs": [
    {
     "name": "stdout",
     "output_type": "stream",
     "text": [
      "P(X<=2.0):0.904\n"
     ]
    }
   ],
   "source": [
    "f=2.0\n",
    "df1=15\n",
    "df2=15\n",
    "prob=stats.f.cdf(f, df1, df2)\n",
    "print(\"P(X<={0}):{1:.3f}\".format(f, prob))"
   ]
  },
  {
   "cell_type": "markdown",
   "metadata": {},
   "source": [
    "### 6.\n",
    "확률변수 F는 각각 자유도가 10, 100인 F-분포를 따른다.  \n",
    "F 값이 1.5일 때, P(X<=F)을 계산하시오."
   ]
  },
  {
   "cell_type": "code",
   "execution_count": 12,
   "metadata": {},
   "outputs": [
    {
     "name": "stdout",
     "output_type": "stream",
     "text": [
      "P(X<=1.5):0.850\n"
     ]
    }
   ],
   "source": [
    "f=1.5\n",
    "df1=10\n",
    "df2=100\n",
    "prob=stats.f.cdf(f, df1, df2)\n",
    "print(\"P(X<={0}):{1:.3f}\".format(f, prob))"
   ]
  },
  {
   "cell_type": "markdown",
   "metadata": {},
   "source": [
    "# 와이블(Weibull) 분포"
   ]
  },
  {
   "cell_type": "markdown",
   "metadata": {},
   "source": [
    "### 7.\n",
    "어떤 제품의 수명시간 x가 형상모수 2.2, 척도모수 1,200인와이블 분포를 따른다고 할 때,   \n",
    "이 제품이 적어도 1,500 시간 이상 작동할 확률을 구하라."
   ]
  },
  {
   "cell_type": "code",
   "execution_count": 13,
   "metadata": {},
   "outputs": [
    {
     "name": "stdout",
     "output_type": "stream",
     "text": [
      "이 제품이 적어도 1500시간 이상 작동할 확률 = P(X>=1500):0.195\n"
     ]
    }
   ],
   "source": [
    "x=1500\n",
    "alpha=2.2\n",
    "beta=1200\n",
    "prob=stats.weibull_min.cdf(x, alpha, scale=beta)\n",
    "print(\"이 제품이 적어도 {0}시간 이상 작동할 확률 = P(X>={1}):{2:.3f}\".format(x,x,1-prob))"
   ]
  },
  {
   "cell_type": "markdown",
   "metadata": {},
   "source": [
    "### 8.\n",
    "어떤 제품의 수명시간 x가 형상모수 5.2, 척도모수 2,200인와이블 분포를 따른다고 할 때,   \n",
    "이 제품이 적어도 2,500 시간 이상 작동할 확률을 구하라."
   ]
  },
  {
   "cell_type": "code",
   "execution_count": 14,
   "metadata": {},
   "outputs": [
    {
     "name": "stdout",
     "output_type": "stream",
     "text": [
      "이 제품이 적어도 2500시간 이상 작동할 확률 = P(X>=2500):0.143\n"
     ]
    }
   ],
   "source": [
    "x=2500\n",
    "alpha=5.2\n",
    "beta=2200\n",
    "prob=stats.weibull_min.cdf(x, alpha, scale=beta)\n",
    "print(\"이 제품이 적어도 {0}시간 이상 작동할 확률 = P(X>={1}):{2:.3f}\".format(x,x,1-prob))"
   ]
  },
  {
   "cell_type": "markdown",
   "metadata": {},
   "source": [
    "# 이항분포"
   ]
  },
  {
   "cell_type": "markdown",
   "metadata": {},
   "source": [
    "### 9.\n",
    "- 도장공정에서 광택도 불량이 40%나 된다고 함\n",
    "- 3대의 차량을 임의로 선택했을 때 불량대수가 각각 0, 1, 2, 3대가 나올 확률은 얼마인가요?"
   ]
  },
  {
   "cell_type": "code",
   "execution_count": 19,
   "metadata": {},
   "outputs": [
    {
     "name": "stdout",
     "output_type": "stream",
     "text": [
      "P(X=0)=0.774\n",
      "P(X=1)=0.204\n",
      "P(X=2)=0.021\n",
      "P(X=3)=0.001\n",
      "P(X=4)=0.000\n",
      "P(X=5)=0.000\n"
     ]
    }
   ],
   "source": [
    "n=5\n",
    "for i in range(n+1):\n",
    "    prob=stats.binom.pmf(i, n, p=0.05)\n",
    "    print(\"P(X={0})={1:.3f}\".format(i, prob))"
   ]
  },
  {
   "cell_type": "markdown",
   "metadata": {},
   "source": [
    "__결론__\n",
    "1. 5개 중 불량품이 없을 경우의 확률 : 77.4% (0.774)\n",
    "2. 5개 중 불량품이 2개 이상일 경우의 확률 : 2.2% (0.022)"
   ]
  },
  {
   "cell_type": "code",
   "execution_count": 15,
   "metadata": {},
   "outputs": [
    {
     "name": "stdout",
     "output_type": "stream",
     "text": [
      "P(X=0)=0.216\n",
      "P(X=1)=0.432\n",
      "P(X=2)=0.288\n",
      "P(X=3)=0.064\n"
     ]
    }
   ],
   "source": [
    "n=3\n",
    "for i in range(n+1):\n",
    "    prob=stats.binom.pmf(i, n, p=0.4)\n",
    "    print(\"P(X={0})={1:.3f}\".format(i, prob))"
   ]
  },
  {
   "cell_type": "markdown",
   "metadata": {},
   "source": [
    "### 10.\n",
    "- 도장공정에서 광택도 불량이 30%나 된다고 함\n",
    "- 5대의 차량을 임의로 선택했을 때 불량대수가 각각 0, 1, 2, 3, 4, 5대가 나올 확률은 얼마인가요?"
   ]
  },
  {
   "cell_type": "code",
   "execution_count": 16,
   "metadata": {},
   "outputs": [
    {
     "name": "stdout",
     "output_type": "stream",
     "text": [
      "P(X=0)=0.168\n",
      "P(X=1)=0.360\n",
      "P(X=2)=0.309\n",
      "P(X=3)=0.132\n",
      "P(X=4)=0.028\n",
      "P(X=5)=0.002\n"
     ]
    }
   ],
   "source": [
    "n=5\n",
    "for i in range(n+1):\n",
    "    prob=stats.binom.pmf(i, n, p=0.3)\n",
    "    print(\"P(X={0})={1:.3f}\".format(i, prob))"
   ]
  },
  {
   "cell_type": "markdown",
   "metadata": {},
   "source": [
    "# 포아송 분포"
   ]
  },
  {
   "cell_type": "markdown",
   "metadata": {},
   "source": [
    "### 11.\n",
    "어느 전화 교환대에는 1분당 평균 2회의 전화가 걸려 온다고 한다.  \n",
    "전화의 도착 횟수가 포아송분포를 따른다면,  \n",
    "- 이 교환대에 1분당 3번의 전화가 걸려올 확률은 얼마인가요?\n",
    "- 이 교환대에 1분당 최대 2회 이하의 전화가 걸려올 확률을 얼마인가요?"
   ]
  },
  {
   "cell_type": "code",
   "execution_count": 17,
   "metadata": {},
   "outputs": [
    {
     "name": "stdout",
     "output_type": "stream",
     "text": [
      "1분당 3번의 전화가 걸려올 확률: 0.180\n",
      "1분당 최대 2회 이하의 전화가 걸려올 확률: 0.677\n"
     ]
    }
   ],
   "source": [
    "mu=2\n",
    "prob=stats.poisson.pmf(3, mu)\n",
    "cdf_prob=stats.poisson.cdf(2, mu)\n",
    "print(\"1분당 {0}번의 전화가 걸려올 확률: {1:.3f}\".format(3, prob))\n",
    "print(\"1분당 최대 {0}회 이하의 전화가 걸려올 확률: {1:.3f}\".format(2, cdf_prob))"
   ]
  },
  {
   "cell_type": "markdown",
   "metadata": {},
   "source": [
    "### 12.\n",
    "- 한 상점에는 평균 1시간에 3명씩 포아송분포로 손님이 도착한다.\n",
    "- 이 때 10시에서 11시 사이에 다음이 발생할 확률을 구하시오.\n",
    "1. 2명의 손님이 도착\n",
    "2. 1명 이하의 손님이 도착\n",
    "3. 3명 이상의 손님이 도착"
   ]
  },
  {
   "cell_type": "code",
   "execution_count": 18,
   "metadata": {
    "scrolled": true
   },
   "outputs": [
    {
     "name": "stdout",
     "output_type": "stream",
     "text": [
      "10시에서 11시 사이에 2명의 손님이 도착할 확률 : 0.224\n",
      "10시에서 11시 사이에 1명 이하의 손님이 도착할 확률 : 0.199\n",
      "10시에서 11시 사이에 3명 이상의 손님이 도착할 확률 : 0.353\n"
     ]
    }
   ],
   "source": [
    "mu=3\n",
    "prob=stats.poisson.pmf(2, mu)\n",
    "prob_cdf1=stats.poisson.cdf(1, mu)\n",
    "prob_cdf2=stats.poisson.cdf(3, mu)\n",
    "\n",
    "print(\"10시에서 11시 사이에 {0}명의 손님이 도착할 확률 : {1:.3f}\".format(2, prob))\n",
    "print(\"10시에서 11시 사이에 {0}명 이하의 손님이 도착할 확률 : {1:.3f}\".format(1, prob_cdf1))\n",
    "print(\"10시에서 11시 사이에 {0}명 이상의 손님이 도착할 확률 : {1:.3f}\".format(3, (1-prob_cdf2)))"
   ]
  }
 ],
 "metadata": {
  "kernelspec": {
   "display_name": "Python 3",
   "language": "python",
   "name": "python3"
  },
  "language_info": {
   "codemirror_mode": {
    "name": "ipython",
    "version": 3
   },
   "file_extension": ".py",
   "mimetype": "text/x-python",
   "name": "python",
   "nbconvert_exporter": "python",
   "pygments_lexer": "ipython3",
   "version": "3.8.5"
  }
 },
 "nbformat": 4,
 "nbformat_minor": 4
}
