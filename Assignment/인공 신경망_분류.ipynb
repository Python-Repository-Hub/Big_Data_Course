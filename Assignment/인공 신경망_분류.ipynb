{
 "cells": [
  {
   "cell_type": "code",
   "execution_count": 1,
   "metadata": {},
   "outputs": [],
   "source": [
    "# 실행결과 경고메시지 출력 제외\n",
    "import warnings\n",
    "warnings.filterwarnings('ignore')\n",
    "\n",
    "import pandas as pd\n",
    "import numpy as np\n",
    "import matplotlib.pyplot as plt\n",
    "import matplotlib\n",
    "import seaborn as sns\n",
    "import graphviz\n",
    "\n",
    "from sklearn.tree import export_graphviz\n",
    "from sklearn.preprocessing import StandardScaler\n",
    "from sklearn.model_selection import train_test_split\n",
    "from statsmodels.api import Logit\n",
    "from sklearn.metrics import accuracy_score\n",
    "from sklearn.metrics import confusion_matrix\n",
    "from sklearn.tree import DecisionTreeClassifier\n",
    "from sklearn.ensemble import RandomForestClassifier\n",
    "from sklearn.ensemble import GradientBoostingClassifier\n",
    "from sklearn.model_selection import GridSearchCV\n",
    "from sklearn.svm import SVC\n",
    "from sklearn.neural_network import MLPClassifier\n",
    "from sklearn.neighbors import KNeighborsClassifier\n",
    "from sklearn.preprocessing import StandardScaler\n",
    "from sklearn.metrics import f1_score, roc_curve, auc\n",
    "\n",
    "matplotlib.rc(\"font\", family=\"Malgun Gothic\")"
   ]
  },
  {
   "cell_type": "markdown",
   "metadata": {},
   "source": [
    "# 인공 신경망_분류"
   ]
  },
  {
   "cell_type": "markdown",
   "metadata": {},
   "source": [
    "유방암 결과를 분류하는 신경망 모델을 만들고   \n",
    "predict method를 이용하여 목표변수 범주를 예측하라.  \n",
    "그리고 모델의 정확도와 confusion matrix를 구하라.\n",
    "- 데이터 : 유방암.CSV(변수: 31개, 자료 수: 320개)\n",
    "- 목표변수(diagnosis : 양성(108개), 음성(benign, 212개)"
   ]
  },
  {
   "cell_type": "markdown",
   "metadata": {},
   "source": [
    "|변수|변수 설명|변수 역할|변수 형태|\n",
    "|---|---|---|---|\n",
    "|diagnosis|진단결과(음성, 양성)|목표변수|이산형|\n",
    "|mean radius|(세포)평균 반경|설명변수|연속형|\n",
    "|mean texture|(세포)평균 질감|설명변수|연속형|\n",
    "|mean perimeter|(세포)평균 둘레|설명변수|연속형|\n",
    "|mean area|(세포)평균 면적|설명변수|연속형|\n",
    "|mean smoothness|(세포)평균 매끄러움|설명변수|연속형|\n",
    "|mean compactness|(세포)평균 조그만 정도|설명변수|연속형|\n",
    "|mean concavity|(세포)평균 오목함|설명변수|연속형|\n",
    "|mean concave points|(세포)평균 오목한 점의 수|설명변수|연속형|\n",
    "|mean symmetry|(세포)평균 대칭|설명변수|연속형|\n",
    "|mean fractal dimension|(세포)평균 프랙탈 차원|설명변수|연속형|\n",
    "|radius error|(세포)반경의 표준오차|설명변수|연속형|\n",
    "|texture error|(세포)질감의 표준오차|설명변수|연속형|\n",
    "|perimeter error|(세포)둘레의 표준오차|설명변수|연속형|\n",
    "|area error|(세포)면적의 표준오차|설명변수|연속형|\n",
    "|smoothness error|(세포)매끄러움의 표준오차|설명변수|연속형|\n",
    "|compactness error|(세포)조그만 정도의 표준오차|설명변수|연속형|\n",
    "|concavity error|(세포)오목함의 표준오차|설명변수|연속형|\n",
    "|concave points error|(세포)오목한 점의 수의 표준오차|설명변수|연속형|\n",
    "|symmetry error|(세포)대칭의 표준오차|설명변수|연속형|\n",
    "|fractal dimension error|(세포)프랙탈 차원의 표준오차|설명변수|연속형|\n",
    "|worst radius|(세포)최대 반경|설명변수|연속형|\n",
    "|worst texture|(세포)최대 질감|설명변수|연속형|\n",
    "|worst perimeter|(세포)최대 둘레|설명변수|연속형|\n",
    "|worst area|(세포)최대 면적|설명변수|연속형|\n",
    "|worst smoothness|(세포)최대 매끄러움|설명변수|연속형|\n",
    "|worst compactness|(세포)최대 조그만 정도|설명변수|연속형|\n",
    "|worst concavity|(세포)최대 오목함|설명변수|연속형|\n",
    "|worst concave points|(세포)최대 오목한 점의 수|설명변수|연속형|\n",
    "|worst symmetry|(세포)최대 대칭|설명변수|연속형|\n",
    "|worst fractal dimension|(세포)최대 프랙탈 차원|설명변수|연속형|\n"
   ]
  },
  {
   "cell_type": "markdown",
   "metadata": {},
   "source": [
    "## 1. 데이터 구성하기"
   ]
  },
  {
   "cell_type": "code",
   "execution_count": 2,
   "metadata": {},
   "outputs": [
    {
     "data": {
      "text/html": [
       "<div>\n",
       "<style scoped>\n",
       "    .dataframe tbody tr th:only-of-type {\n",
       "        vertical-align: middle;\n",
       "    }\n",
       "\n",
       "    .dataframe tbody tr th {\n",
       "        vertical-align: top;\n",
       "    }\n",
       "\n",
       "    .dataframe thead th {\n",
       "        text-align: right;\n",
       "    }\n",
       "</style>\n",
       "<table border=\"1\" class=\"dataframe\">\n",
       "  <thead>\n",
       "    <tr style=\"text-align: right;\">\n",
       "      <th></th>\n",
       "      <th>diagnosis</th>\n",
       "      <th>mean_radius</th>\n",
       "      <th>mean_texture</th>\n",
       "      <th>mean_perimeter</th>\n",
       "      <th>mean_area</th>\n",
       "      <th>mean_smoothness</th>\n",
       "      <th>mean_compactness</th>\n",
       "      <th>mean_concavity</th>\n",
       "      <th>mean_concave_points</th>\n",
       "      <th>mean_symmetry</th>\n",
       "      <th>...</th>\n",
       "      <th>worst_radius</th>\n",
       "      <th>worst_texture</th>\n",
       "      <th>worst_perimeter</th>\n",
       "      <th>worst_area</th>\n",
       "      <th>worst_smoothness</th>\n",
       "      <th>worst_compactness</th>\n",
       "      <th>worst_concavity</th>\n",
       "      <th>worst_concave_points</th>\n",
       "      <th>worst_symmetry</th>\n",
       "      <th>worst_fractal_dimension</th>\n",
       "    </tr>\n",
       "  </thead>\n",
       "  <tbody>\n",
       "    <tr>\n",
       "      <th>0</th>\n",
       "      <td>음성</td>\n",
       "      <td>15.12</td>\n",
       "      <td>16.68</td>\n",
       "      <td>98.78</td>\n",
       "      <td>716.6</td>\n",
       "      <td>0.08876</td>\n",
       "      <td>0.09588</td>\n",
       "      <td>0.07550</td>\n",
       "      <td>0.04079</td>\n",
       "      <td>0.1594</td>\n",
       "      <td>...</td>\n",
       "      <td>17.77</td>\n",
       "      <td>20.24</td>\n",
       "      <td>117.70</td>\n",
       "      <td>989.5</td>\n",
       "      <td>0.14910</td>\n",
       "      <td>0.3331</td>\n",
       "      <td>0.3327</td>\n",
       "      <td>0.12520</td>\n",
       "      <td>0.3415</td>\n",
       "      <td>0.09740</td>\n",
       "    </tr>\n",
       "    <tr>\n",
       "      <th>1</th>\n",
       "      <td>양성</td>\n",
       "      <td>10.80</td>\n",
       "      <td>9.71</td>\n",
       "      <td>68.77</td>\n",
       "      <td>357.6</td>\n",
       "      <td>0.09594</td>\n",
       "      <td>0.05736</td>\n",
       "      <td>0.02531</td>\n",
       "      <td>0.01698</td>\n",
       "      <td>0.1381</td>\n",
       "      <td>...</td>\n",
       "      <td>11.60</td>\n",
       "      <td>12.02</td>\n",
       "      <td>73.66</td>\n",
       "      <td>414.0</td>\n",
       "      <td>0.14360</td>\n",
       "      <td>0.1257</td>\n",
       "      <td>0.1047</td>\n",
       "      <td>0.04603</td>\n",
       "      <td>0.2090</td>\n",
       "      <td>0.07699</td>\n",
       "    </tr>\n",
       "    <tr>\n",
       "      <th>2</th>\n",
       "      <td>음성</td>\n",
       "      <td>18.31</td>\n",
       "      <td>18.58</td>\n",
       "      <td>118.60</td>\n",
       "      <td>1041.0</td>\n",
       "      <td>0.08588</td>\n",
       "      <td>0.08468</td>\n",
       "      <td>0.08169</td>\n",
       "      <td>0.05814</td>\n",
       "      <td>0.1621</td>\n",
       "      <td>...</td>\n",
       "      <td>21.31</td>\n",
       "      <td>26.36</td>\n",
       "      <td>139.20</td>\n",
       "      <td>1410.0</td>\n",
       "      <td>0.12340</td>\n",
       "      <td>0.2445</td>\n",
       "      <td>0.3538</td>\n",
       "      <td>0.15710</td>\n",
       "      <td>0.3206</td>\n",
       "      <td>0.06938</td>\n",
       "    </tr>\n",
       "    <tr>\n",
       "      <th>3</th>\n",
       "      <td>양성</td>\n",
       "      <td>14.92</td>\n",
       "      <td>14.93</td>\n",
       "      <td>96.45</td>\n",
       "      <td>686.9</td>\n",
       "      <td>0.08098</td>\n",
       "      <td>0.08549</td>\n",
       "      <td>0.05539</td>\n",
       "      <td>0.03221</td>\n",
       "      <td>0.1687</td>\n",
       "      <td>...</td>\n",
       "      <td>17.18</td>\n",
       "      <td>18.22</td>\n",
       "      <td>112.00</td>\n",
       "      <td>906.6</td>\n",
       "      <td>0.10650</td>\n",
       "      <td>0.2791</td>\n",
       "      <td>0.3151</td>\n",
       "      <td>0.11470</td>\n",
       "      <td>0.2688</td>\n",
       "      <td>0.08273</td>\n",
       "    </tr>\n",
       "    <tr>\n",
       "      <th>4</th>\n",
       "      <td>양성</td>\n",
       "      <td>12.89</td>\n",
       "      <td>13.12</td>\n",
       "      <td>81.89</td>\n",
       "      <td>515.9</td>\n",
       "      <td>0.06955</td>\n",
       "      <td>0.03729</td>\n",
       "      <td>0.02260</td>\n",
       "      <td>0.01171</td>\n",
       "      <td>0.1337</td>\n",
       "      <td>...</td>\n",
       "      <td>13.62</td>\n",
       "      <td>15.54</td>\n",
       "      <td>87.40</td>\n",
       "      <td>577.0</td>\n",
       "      <td>0.09616</td>\n",
       "      <td>0.1147</td>\n",
       "      <td>0.1186</td>\n",
       "      <td>0.05366</td>\n",
       "      <td>0.2309</td>\n",
       "      <td>0.06915</td>\n",
       "    </tr>\n",
       "  </tbody>\n",
       "</table>\n",
       "<p>5 rows × 31 columns</p>\n",
       "</div>"
      ],
      "text/plain": [
       "  diagnosis  mean_radius  mean_texture  mean_perimeter  mean_area  \\\n",
       "0        음성        15.12         16.68           98.78      716.6   \n",
       "1        양성        10.80          9.71           68.77      357.6   \n",
       "2        음성        18.31         18.58          118.60     1041.0   \n",
       "3        양성        14.92         14.93           96.45      686.9   \n",
       "4        양성        12.89         13.12           81.89      515.9   \n",
       "\n",
       "   mean_smoothness  mean_compactness  mean_concavity  mean_concave_points  \\\n",
       "0          0.08876           0.09588         0.07550              0.04079   \n",
       "1          0.09594           0.05736         0.02531              0.01698   \n",
       "2          0.08588           0.08468         0.08169              0.05814   \n",
       "3          0.08098           0.08549         0.05539              0.03221   \n",
       "4          0.06955           0.03729         0.02260              0.01171   \n",
       "\n",
       "   mean_symmetry  ...  worst_radius  worst_texture  worst_perimeter  \\\n",
       "0         0.1594  ...         17.77          20.24           117.70   \n",
       "1         0.1381  ...         11.60          12.02            73.66   \n",
       "2         0.1621  ...         21.31          26.36           139.20   \n",
       "3         0.1687  ...         17.18          18.22           112.00   \n",
       "4         0.1337  ...         13.62          15.54            87.40   \n",
       "\n",
       "   worst_area  worst_smoothness  worst_compactness  worst_concavity  \\\n",
       "0       989.5           0.14910             0.3331           0.3327   \n",
       "1       414.0           0.14360             0.1257           0.1047   \n",
       "2      1410.0           0.12340             0.2445           0.3538   \n",
       "3       906.6           0.10650             0.2791           0.3151   \n",
       "4       577.0           0.09616             0.1147           0.1186   \n",
       "\n",
       "   worst_concave_points  worst_symmetry  worst_fractal_dimension  \n",
       "0               0.12520          0.3415                  0.09740  \n",
       "1               0.04603          0.2090                  0.07699  \n",
       "2               0.15710          0.3206                  0.06938  \n",
       "3               0.11470          0.2688                  0.08273  \n",
       "4               0.05366          0.2309                  0.06915  \n",
       "\n",
       "[5 rows x 31 columns]"
      ]
     },
     "execution_count": 2,
     "metadata": {},
     "output_type": "execute_result"
    }
   ],
   "source": [
    "df_raw=pd.read_csv(\"../data/유방암.csv\", engine=\"python\")\n",
    "df_raw.head()"
   ]
  },
  {
   "cell_type": "code",
   "execution_count": 3,
   "metadata": {},
   "outputs": [
    {
     "data": {
      "text/plain": [
       "diagnosis                  0\n",
       "mean_radius                0\n",
       "mean_texture               0\n",
       "mean_perimeter             0\n",
       "mean_area                  0\n",
       "mean_smoothness            0\n",
       "mean_compactness           0\n",
       "mean_concavity             0\n",
       "mean_concave_points        0\n",
       "mean_symmetry              0\n",
       "mean_fractal_dimension     0\n",
       "radius_error               0\n",
       "texture_error              0\n",
       "perimeter_error            0\n",
       "area_error                 0\n",
       "smoothness_error           0\n",
       "compactness_error          0\n",
       "concavity_error            0\n",
       "concave_points_error       0\n",
       "symmetry_error             0\n",
       "fractal_dimension_error    0\n",
       "worst_radius               0\n",
       "worst_texture              0\n",
       "worst_perimeter            0\n",
       "worst_area                 0\n",
       "worst_smoothness           0\n",
       "worst_compactness          0\n",
       "worst_concavity            0\n",
       "worst_concave_points       0\n",
       "worst_symmetry             0\n",
       "worst_fractal_dimension    0\n",
       "dtype: int64"
      ]
     },
     "execution_count": 3,
     "metadata": {},
     "output_type": "execute_result"
    }
   ],
   "source": [
    "df_raw.isnull().sum(axis=0)"
   ]
  },
  {
   "cell_type": "markdown",
   "metadata": {},
   "source": [
    "> 결측치 없음."
   ]
  },
  {
   "cell_type": "code",
   "execution_count": 4,
   "metadata": {},
   "outputs": [
    {
     "data": {
      "text/html": [
       "<div>\n",
       "<style scoped>\n",
       "    .dataframe tbody tr th:only-of-type {\n",
       "        vertical-align: middle;\n",
       "    }\n",
       "\n",
       "    .dataframe tbody tr th {\n",
       "        vertical-align: top;\n",
       "    }\n",
       "\n",
       "    .dataframe thead th {\n",
       "        text-align: right;\n",
       "    }\n",
       "</style>\n",
       "<table border=\"1\" class=\"dataframe\">\n",
       "  <thead>\n",
       "    <tr style=\"text-align: right;\">\n",
       "      <th></th>\n",
       "      <th>mean_radius</th>\n",
       "      <th>mean_texture</th>\n",
       "      <th>mean_perimeter</th>\n",
       "      <th>mean_area</th>\n",
       "      <th>mean_smoothness</th>\n",
       "      <th>mean_compactness</th>\n",
       "      <th>mean_concavity</th>\n",
       "      <th>mean_concave_points</th>\n",
       "      <th>mean_symmetry</th>\n",
       "      <th>mean_fractal_dimension</th>\n",
       "      <th>...</th>\n",
       "      <th>worst_texture</th>\n",
       "      <th>worst_perimeter</th>\n",
       "      <th>worst_area</th>\n",
       "      <th>worst_smoothness</th>\n",
       "      <th>worst_compactness</th>\n",
       "      <th>worst_concavity</th>\n",
       "      <th>worst_concave_points</th>\n",
       "      <th>worst_symmetry</th>\n",
       "      <th>worst_fractal_dimension</th>\n",
       "      <th>diagnosis_양성</th>\n",
       "    </tr>\n",
       "  </thead>\n",
       "  <tbody>\n",
       "    <tr>\n",
       "      <th>0</th>\n",
       "      <td>15.12</td>\n",
       "      <td>16.68</td>\n",
       "      <td>98.78</td>\n",
       "      <td>716.6</td>\n",
       "      <td>0.08876</td>\n",
       "      <td>0.09588</td>\n",
       "      <td>0.07550</td>\n",
       "      <td>0.04079</td>\n",
       "      <td>0.1594</td>\n",
       "      <td>0.05986</td>\n",
       "      <td>...</td>\n",
       "      <td>20.24</td>\n",
       "      <td>117.70</td>\n",
       "      <td>989.5</td>\n",
       "      <td>0.14910</td>\n",
       "      <td>0.3331</td>\n",
       "      <td>0.3327</td>\n",
       "      <td>0.12520</td>\n",
       "      <td>0.3415</td>\n",
       "      <td>0.09740</td>\n",
       "      <td>0</td>\n",
       "    </tr>\n",
       "    <tr>\n",
       "      <th>1</th>\n",
       "      <td>10.80</td>\n",
       "      <td>9.71</td>\n",
       "      <td>68.77</td>\n",
       "      <td>357.6</td>\n",
       "      <td>0.09594</td>\n",
       "      <td>0.05736</td>\n",
       "      <td>0.02531</td>\n",
       "      <td>0.01698</td>\n",
       "      <td>0.1381</td>\n",
       "      <td>0.06400</td>\n",
       "      <td>...</td>\n",
       "      <td>12.02</td>\n",
       "      <td>73.66</td>\n",
       "      <td>414.0</td>\n",
       "      <td>0.14360</td>\n",
       "      <td>0.1257</td>\n",
       "      <td>0.1047</td>\n",
       "      <td>0.04603</td>\n",
       "      <td>0.2090</td>\n",
       "      <td>0.07699</td>\n",
       "      <td>1</td>\n",
       "    </tr>\n",
       "    <tr>\n",
       "      <th>2</th>\n",
       "      <td>18.31</td>\n",
       "      <td>18.58</td>\n",
       "      <td>118.60</td>\n",
       "      <td>1041.0</td>\n",
       "      <td>0.08588</td>\n",
       "      <td>0.08468</td>\n",
       "      <td>0.08169</td>\n",
       "      <td>0.05814</td>\n",
       "      <td>0.1621</td>\n",
       "      <td>0.05425</td>\n",
       "      <td>...</td>\n",
       "      <td>26.36</td>\n",
       "      <td>139.20</td>\n",
       "      <td>1410.0</td>\n",
       "      <td>0.12340</td>\n",
       "      <td>0.2445</td>\n",
       "      <td>0.3538</td>\n",
       "      <td>0.15710</td>\n",
       "      <td>0.3206</td>\n",
       "      <td>0.06938</td>\n",
       "      <td>0</td>\n",
       "    </tr>\n",
       "    <tr>\n",
       "      <th>3</th>\n",
       "      <td>14.92</td>\n",
       "      <td>14.93</td>\n",
       "      <td>96.45</td>\n",
       "      <td>686.9</td>\n",
       "      <td>0.08098</td>\n",
       "      <td>0.08549</td>\n",
       "      <td>0.05539</td>\n",
       "      <td>0.03221</td>\n",
       "      <td>0.1687</td>\n",
       "      <td>0.05669</td>\n",
       "      <td>...</td>\n",
       "      <td>18.22</td>\n",
       "      <td>112.00</td>\n",
       "      <td>906.6</td>\n",
       "      <td>0.10650</td>\n",
       "      <td>0.2791</td>\n",
       "      <td>0.3151</td>\n",
       "      <td>0.11470</td>\n",
       "      <td>0.2688</td>\n",
       "      <td>0.08273</td>\n",
       "      <td>1</td>\n",
       "    </tr>\n",
       "    <tr>\n",
       "      <th>4</th>\n",
       "      <td>12.89</td>\n",
       "      <td>13.12</td>\n",
       "      <td>81.89</td>\n",
       "      <td>515.9</td>\n",
       "      <td>0.06955</td>\n",
       "      <td>0.03729</td>\n",
       "      <td>0.02260</td>\n",
       "      <td>0.01171</td>\n",
       "      <td>0.1337</td>\n",
       "      <td>0.05581</td>\n",
       "      <td>...</td>\n",
       "      <td>15.54</td>\n",
       "      <td>87.40</td>\n",
       "      <td>577.0</td>\n",
       "      <td>0.09616</td>\n",
       "      <td>0.1147</td>\n",
       "      <td>0.1186</td>\n",
       "      <td>0.05366</td>\n",
       "      <td>0.2309</td>\n",
       "      <td>0.06915</td>\n",
       "      <td>1</td>\n",
       "    </tr>\n",
       "  </tbody>\n",
       "</table>\n",
       "<p>5 rows × 31 columns</p>\n",
       "</div>"
      ],
      "text/plain": [
       "   mean_radius  mean_texture  mean_perimeter  mean_area  mean_smoothness  \\\n",
       "0        15.12         16.68           98.78      716.6          0.08876   \n",
       "1        10.80          9.71           68.77      357.6          0.09594   \n",
       "2        18.31         18.58          118.60     1041.0          0.08588   \n",
       "3        14.92         14.93           96.45      686.9          0.08098   \n",
       "4        12.89         13.12           81.89      515.9          0.06955   \n",
       "\n",
       "   mean_compactness  mean_concavity  mean_concave_points  mean_symmetry  \\\n",
       "0           0.09588         0.07550              0.04079         0.1594   \n",
       "1           0.05736         0.02531              0.01698         0.1381   \n",
       "2           0.08468         0.08169              0.05814         0.1621   \n",
       "3           0.08549         0.05539              0.03221         0.1687   \n",
       "4           0.03729         0.02260              0.01171         0.1337   \n",
       "\n",
       "   mean_fractal_dimension  ...  worst_texture  worst_perimeter  worst_area  \\\n",
       "0                 0.05986  ...          20.24           117.70       989.5   \n",
       "1                 0.06400  ...          12.02            73.66       414.0   \n",
       "2                 0.05425  ...          26.36           139.20      1410.0   \n",
       "3                 0.05669  ...          18.22           112.00       906.6   \n",
       "4                 0.05581  ...          15.54            87.40       577.0   \n",
       "\n",
       "   worst_smoothness  worst_compactness  worst_concavity  worst_concave_points  \\\n",
       "0           0.14910             0.3331           0.3327               0.12520   \n",
       "1           0.14360             0.1257           0.1047               0.04603   \n",
       "2           0.12340             0.2445           0.3538               0.15710   \n",
       "3           0.10650             0.2791           0.3151               0.11470   \n",
       "4           0.09616             0.1147           0.1186               0.05366   \n",
       "\n",
       "   worst_symmetry  worst_fractal_dimension  diagnosis_양성  \n",
       "0          0.3415                  0.09740             0  \n",
       "1          0.2090                  0.07699             1  \n",
       "2          0.3206                  0.06938             0  \n",
       "3          0.2688                  0.08273             1  \n",
       "4          0.2309                  0.06915             1  \n",
       "\n",
       "[5 rows x 31 columns]"
      ]
     },
     "execution_count": 4,
     "metadata": {},
     "output_type": "execute_result"
    }
   ],
   "source": [
    "# get_dummies: 데이터의 문자형 변수에 대한 더미변수 생성\n",
    "df_raw_dummy=pd.get_dummies(df_raw)\n",
    "# diagnosis_음성 제거 -> diagnosis_양성 결과가 1이면 양성, 0이면 음성\n",
    "df_raw_dummy=df_raw_dummy.drop(\"diagnosis_음성\", axis=1)\n",
    "df_raw_dummy.head()"
   ]
  },
  {
   "cell_type": "code",
   "execution_count": 5,
   "metadata": {},
   "outputs": [],
   "source": [
    "# 목표변수, 설명변수 데이터 지정\n",
    "df_raw_y=df_raw_dummy[\"diagnosis_양성\"]\n",
    "df_raw_x=df_raw_dummy.drop(\"diagnosis_양성\", axis=1, inplace=False)"
   ]
  },
  {
   "cell_type": "code",
   "execution_count": 6,
   "metadata": {},
   "outputs": [
    {
     "name": "stdout",
     "output_type": "stream",
     "text": [
      "train data X size : (192, 30)\n",
      "train data Y size : (192,)\n",
      "test data X size : (128, 30)\n",
      "test data Y size : (128,)\n"
     ]
    }
   ],
   "source": [
    "# train_test_split(X: 설명변수 데이터, Y: 목표변수 데이터, test_size=test 데이터 비율, random_state: random seed)\n",
    "df_train_x, df_test_x, df_train_y, df_test_y=train_test_split(df_raw_x, df_raw_y, test_size=0.4, random_state=1234)\n",
    "print(\"train data X size : {}\".format(df_train_x.shape))\n",
    "print(\"train data Y size : {}\".format(df_train_y.shape))\n",
    "print(\"test data X size : {}\".format(df_test_x.shape))\n",
    "print(\"test data Y size : {}\".format(df_test_y.shape))"
   ]
  },
  {
   "cell_type": "markdown",
   "metadata": {},
   "source": [
    "## 2. 모델 생성 및 Parameter 조정, 평가"
   ]
  },
  {
   "cell_type": "code",
   "execution_count": 7,
   "metadata": {},
   "outputs": [
    {
     "name": "stdout",
     "output_type": "stream",
     "text": [
      "Accuracy on training set: 0.599\n",
      "Accuracy on test set: 0.758\n"
     ]
    }
   ],
   "source": [
    "nn_uncustomized=MLPClassifier(random_state=1234)\n",
    "nn_uncustomized.fit(df_train_x, df_train_y)\n",
    "# train 데이터 정확도\n",
    "print(\"Accuracy on training set: {:.3f}\".format(nn_uncustomized.score(df_train_x, df_train_y)))\n",
    "# test 데이터 정확도\n",
    "print(\"Accuracy on test set: {:.3f}\".format(nn_uncustomized.score(df_test_x, df_test_y)))\n"
   ]
  },
  {
   "cell_type": "markdown",
   "metadata": {},
   "source": [
    "> 모델 정확도는 train 59.9%, test 75.8%로   \n",
    "> 모델은 train 데이터에 underfitting 되어있음."
   ]
  },
  {
   "cell_type": "markdown",
   "metadata": {},
   "source": [
    "- Hidden Layer : 은닉층 변경"
   ]
  },
  {
   "cell_type": "code",
   "execution_count": 8,
   "metadata": {},
   "outputs": [
    {
     "data": {
      "text/html": [
       "<div>\n",
       "<style scoped>\n",
       "    .dataframe tbody tr th:only-of-type {\n",
       "        vertical-align: middle;\n",
       "    }\n",
       "\n",
       "    .dataframe tbody tr th {\n",
       "        vertical-align: top;\n",
       "    }\n",
       "\n",
       "    .dataframe thead th {\n",
       "        text-align: right;\n",
       "    }\n",
       "</style>\n",
       "<table border=\"1\" class=\"dataframe\">\n",
       "  <thead>\n",
       "    <tr style=\"text-align: right;\">\n",
       "      <th></th>\n",
       "      <th>HiddenLayer</th>\n",
       "      <th>Trainaccuracy</th>\n",
       "      <th>Testaccuracy</th>\n",
       "    </tr>\n",
       "  </thead>\n",
       "  <tbody>\n",
       "    <tr>\n",
       "      <th>0</th>\n",
       "      <td>20</td>\n",
       "      <td>0.906</td>\n",
       "      <td>0.914</td>\n",
       "    </tr>\n",
       "    <tr>\n",
       "      <th>1</th>\n",
       "      <td>40</td>\n",
       "      <td>0.911</td>\n",
       "      <td>0.922</td>\n",
       "    </tr>\n",
       "    <tr>\n",
       "      <th>2</th>\n",
       "      <td>60</td>\n",
       "      <td>0.599</td>\n",
       "      <td>0.758</td>\n",
       "    </tr>\n",
       "    <tr>\n",
       "      <th>3</th>\n",
       "      <td>80</td>\n",
       "      <td>0.594</td>\n",
       "      <td>0.758</td>\n",
       "    </tr>\n",
       "    <tr>\n",
       "      <th>4</th>\n",
       "      <td>100</td>\n",
       "      <td>0.599</td>\n",
       "      <td>0.758</td>\n",
       "    </tr>\n",
       "    <tr>\n",
       "      <th>5</th>\n",
       "      <td>120</td>\n",
       "      <td>0.849</td>\n",
       "      <td>0.875</td>\n",
       "    </tr>\n",
       "    <tr>\n",
       "      <th>6</th>\n",
       "      <td>140</td>\n",
       "      <td>0.938</td>\n",
       "      <td>0.891</td>\n",
       "    </tr>\n",
       "    <tr>\n",
       "      <th>7</th>\n",
       "      <td>160</td>\n",
       "      <td>0.922</td>\n",
       "      <td>0.930</td>\n",
       "    </tr>\n",
       "  </tbody>\n",
       "</table>\n",
       "</div>"
      ],
      "text/plain": [
       "   HiddenLayer  Trainaccuracy  Testaccuracy\n",
       "0           20          0.906         0.914\n",
       "1           40          0.911         0.922\n",
       "2           60          0.599         0.758\n",
       "3           80          0.594         0.758\n",
       "4          100          0.599         0.758\n",
       "5          120          0.849         0.875\n",
       "6          140          0.938         0.891\n",
       "7          160          0.922         0.930"
      ]
     },
     "execution_count": 8,
     "metadata": {},
     "output_type": "execute_result"
    }
   ],
   "source": [
    "# train 및 test 설명력 결과 저장\n",
    "train_accuracy=[]; test_accuracy=[]\n",
    "# hidden_layer_sizes: 은닉층 변경 (20, 40, 60, 80, 100, 120, 140, 160)\n",
    "para_hidden=[20*hidden for hidden in range(1, 9)]\n",
    "\n",
    "for v_hidden in para_hidden:\n",
    "    nn=MLPClassifier(random_state=1234, hidden_layer_sizes=v_hidden)\n",
    "    #nn=MLPClassifier(random_state=1234, hidden_layer_sizes=(v_hidden, v_hidden))\n",
    "    nn.fit(df_train_x, df_train_y)\n",
    "    train_accuracy.append(nn.score(df_train_x, df_train_y))\n",
    "    test_accuracy.append(nn.score(df_test_x, df_test_y))\n",
    "    \n",
    "# 결과 저장\n",
    "df_accuracy_hidden=pd.DataFrame()\n",
    "df_accuracy_hidden[\"HiddenLayer\"]=para_hidden\n",
    "df_accuracy_hidden[\"Trainaccuracy\"]=train_accuracy\n",
    "df_accuracy_hidden[\"Testaccuracy\"]=test_accuracy\n",
    "\n",
    "# 모델 정확도 확인\n",
    "df_accuracy_hidden.round(3)"
   ]
  },
  {
   "cell_type": "code",
   "execution_count": 9,
   "metadata": {
    "scrolled": true
   },
   "outputs": [
    {
     "data": {
      "text/plain": [
       "<matplotlib.legend.Legend at 0x17a695e5100>"
      ]
     },
     "execution_count": 9,
     "metadata": {},
     "output_type": "execute_result"
    },
    {
     "data": {
      "image/png": "[encoded data removed]",
      "text/plain": [
       "<Figure size 432x288 with 1 Axes>"
      ]
     },
     "metadata": {
      "needs_background": "light"
     },
     "output_type": "display_data"
    }
   ],
   "source": [
    "# 모델 정확도 그래프 확인\n",
    "plt.plot(para_hidden, train_accuracy, linestyle=\"-\", label=\"Train Accuracy\")\n",
    "plt.plot(para_hidden, test_accuracy, linestyle=\"-\", label=\"Test Accuracy\")\n",
    "plt.ylabel(\"accuracy\"); plt.xlabel(\"Hidden Layer\")\n",
    "plt.legend()"
   ]
  },
  {
   "cell_type": "markdown",
   "metadata": {},
   "source": [
    "> Train/Test 데이터의 성능을 고려하여 40 선택"
   ]
  },
  {
   "cell_type": "markdown",
   "metadata": {},
   "source": [
    "- Activation : 활성화 함수 변경"
   ]
  },
  {
   "cell_type": "code",
   "execution_count": 10,
   "metadata": {},
   "outputs": [
    {
     "data": {
      "text/html": [
       "<div>\n",
       "<style scoped>\n",
       "    .dataframe tbody tr th:only-of-type {\n",
       "        vertical-align: middle;\n",
       "    }\n",
       "\n",
       "    .dataframe tbody tr th {\n",
       "        vertical-align: top;\n",
       "    }\n",
       "\n",
       "    .dataframe thead th {\n",
       "        text-align: right;\n",
       "    }\n",
       "</style>\n",
       "<table border=\"1\" class=\"dataframe\">\n",
       "  <thead>\n",
       "    <tr style=\"text-align: right;\">\n",
       "      <th></th>\n",
       "      <th>ActivationFunction</th>\n",
       "      <th>TrainAccuracy</th>\n",
       "      <th>TestAccuracy</th>\n",
       "    </tr>\n",
       "  </thead>\n",
       "  <tbody>\n",
       "    <tr>\n",
       "      <th>0</th>\n",
       "      <td>logistic</td>\n",
       "      <td>0.927</td>\n",
       "      <td>0.883</td>\n",
       "    </tr>\n",
       "    <tr>\n",
       "      <th>1</th>\n",
       "      <td>tanh</td>\n",
       "      <td>0.943</td>\n",
       "      <td>0.891</td>\n",
       "    </tr>\n",
       "    <tr>\n",
       "      <th>2</th>\n",
       "      <td>relu</td>\n",
       "      <td>0.911</td>\n",
       "      <td>0.922</td>\n",
       "    </tr>\n",
       "  </tbody>\n",
       "</table>\n",
       "</div>"
      ],
      "text/plain": [
       "  ActivationFunction  TrainAccuracy  TestAccuracy\n",
       "0           logistic          0.927         0.883\n",
       "1               tanh          0.943         0.891\n",
       "2               relu          0.911         0.922"
      ]
     },
     "execution_count": 10,
     "metadata": {},
     "output_type": "execute_result"
    }
   ],
   "source": [
    "# train 및 test 설명력 결과 저장\n",
    "train_accuracy=[]; test_accuracy=[]\n",
    "# activation 변경\n",
    "para_function=[\"logistic\", \"tanh\", \"relu\"]\n",
    "\n",
    "for v_function in para_function:\n",
    "    nn=MLPClassifier(random_state=1234, hidden_layer_sizes=40, activation=v_function)\n",
    "    nn.fit(df_train_x, df_train_y)\n",
    "    train_accuracy.append(nn.score(df_train_x, df_train_y))\n",
    "    test_accuracy.append(nn.score(df_test_x, df_test_y))\n",
    "    \n",
    "# 결과 저장\n",
    "df_accuracy_function=pd.DataFrame()\n",
    "df_accuracy_function[\"ActivationFunction\"]=para_function\n",
    "df_accuracy_function[\"TrainAccuracy\"]=train_accuracy\n",
    "df_accuracy_function[\"TestAccuracy\"]=test_accuracy\n",
    "\n",
    "# 모델 정확도 확인\n",
    "df_accuracy_function.round(3)"
   ]
  },
  {
   "cell_type": "code",
   "execution_count": 11,
   "metadata": {
    "scrolled": true
   },
   "outputs": [
    {
     "data": {
      "text/plain": [
       "<matplotlib.legend.Legend at 0x17a696e3a30>"
      ]
     },
     "execution_count": 11,
     "metadata": {},
     "output_type": "execute_result"
    },
    {
     "data": {
      "image/png": "[encoded data removed]",
      "text/plain": [
       "<Figure size 432x288 with 1 Axes>"
      ]
     },
     "metadata": {
      "needs_background": "light"
     },
     "output_type": "display_data"
    }
   ],
   "source": [
    "# 모델 정확도 그래프 확인\n",
    "plt.plot(para_function, train_accuracy, linestyle=\"-\", label=\"Train Accuracy\")\n",
    "plt.plot(para_function, test_accuracy, linestyle=\"-\", label=\"Test Accuracy\")\n",
    "plt.ylabel(\"accuracy\"); plt.xlabel(\"C\")\n",
    "plt.legend()"
   ]
  },
  {
   "cell_type": "markdown",
   "metadata": {},
   "source": [
    "> 각 activation 함수 마다, train, test 성능차이가 다름.   \n",
    "> scale 변환 후 모델 성능 비교 필요\n"
   ]
  },
  {
   "cell_type": "markdown",
   "metadata": {},
   "source": [
    "- Standardscaler : 설명변수 scale 변경"
   ]
  },
  {
   "cell_type": "code",
   "execution_count": 12,
   "metadata": {},
   "outputs": [
    {
     "data": {
      "text/html": [
       "<div>\n",
       "<style scoped>\n",
       "    .dataframe tbody tr th:only-of-type {\n",
       "        vertical-align: middle;\n",
       "    }\n",
       "\n",
       "    .dataframe tbody tr th {\n",
       "        vertical-align: top;\n",
       "    }\n",
       "\n",
       "    .dataframe thead th {\n",
       "        text-align: right;\n",
       "    }\n",
       "</style>\n",
       "<table border=\"1\" class=\"dataframe\">\n",
       "  <thead>\n",
       "    <tr style=\"text-align: right;\">\n",
       "      <th></th>\n",
       "      <th>mean_radius</th>\n",
       "      <th>mean_texture</th>\n",
       "      <th>mean_perimeter</th>\n",
       "      <th>mean_area</th>\n",
       "      <th>mean_smoothness</th>\n",
       "      <th>mean_compactness</th>\n",
       "      <th>mean_concavity</th>\n",
       "      <th>mean_concave_points</th>\n",
       "      <th>mean_symmetry</th>\n",
       "      <th>mean_fractal_dimension</th>\n",
       "      <th>...</th>\n",
       "      <th>worst_radius</th>\n",
       "      <th>worst_texture</th>\n",
       "      <th>worst_perimeter</th>\n",
       "      <th>worst_area</th>\n",
       "      <th>worst_smoothness</th>\n",
       "      <th>worst_compactness</th>\n",
       "      <th>worst_concavity</th>\n",
       "      <th>worst_concave_points</th>\n",
       "      <th>worst_symmetry</th>\n",
       "      <th>worst_fractal_dimension</th>\n",
       "    </tr>\n",
       "  </thead>\n",
       "  <tbody>\n",
       "    <tr>\n",
       "      <th>0</th>\n",
       "      <td>-0.157678</td>\n",
       "      <td>-0.879112</td>\n",
       "      <td>-0.165550</td>\n",
       "      <td>-0.232872</td>\n",
       "      <td>-0.744948</td>\n",
       "      <td>-0.479220</td>\n",
       "      <td>-0.550769</td>\n",
       "      <td>-0.628488</td>\n",
       "      <td>-0.997431</td>\n",
       "      <td>-0.392627</td>\n",
       "      <td>...</td>\n",
       "      <td>-0.149283</td>\n",
       "      <td>-1.156442</td>\n",
       "      <td>-0.153789</td>\n",
       "      <td>-0.224951</td>\n",
       "      <td>0.490637</td>\n",
       "      <td>0.139396</td>\n",
       "      <td>-0.094470</td>\n",
       "      <td>-0.301949</td>\n",
       "      <td>0.525611</td>\n",
       "      <td>0.511081</td>\n",
       "    </tr>\n",
       "    <tr>\n",
       "      <th>1</th>\n",
       "      <td>-1.312779</td>\n",
       "      <td>-2.560965</td>\n",
       "      <td>-1.328928</td>\n",
       "      <td>-1.150194</td>\n",
       "      <td>-0.240274</td>\n",
       "      <td>-1.153621</td>\n",
       "      <td>-1.143404</td>\n",
       "      <td>-1.199934</td>\n",
       "      <td>-1.773612</td>\n",
       "      <td>0.184077</td>\n",
       "      <td>...</td>\n",
       "      <td>-1.341759</td>\n",
       "      <td>-2.517236</td>\n",
       "      <td>-1.380396</td>\n",
       "      <td>-1.124201</td>\n",
       "      <td>0.254373</td>\n",
       "      <td>-1.046076</td>\n",
       "      <td>-1.159323</td>\n",
       "      <td>-1.480312</td>\n",
       "      <td>-1.387506</td>\n",
       "      <td>-0.507149</td>\n",
       "    </tr>\n",
       "    <tr>\n",
       "      <th>2</th>\n",
       "      <td>0.695279</td>\n",
       "      <td>-0.420644</td>\n",
       "      <td>0.602798</td>\n",
       "      <td>0.596040</td>\n",
       "      <td>-0.947380</td>\n",
       "      <td>-0.675307</td>\n",
       "      <td>-0.477679</td>\n",
       "      <td>-0.212084</td>\n",
       "      <td>-0.899042</td>\n",
       "      <td>-1.174101</td>\n",
       "      <td>...</td>\n",
       "      <td>0.534893</td>\n",
       "      <td>-0.143296</td>\n",
       "      <td>0.445031</td>\n",
       "      <td>0.432104</td>\n",
       "      <td>-0.613360</td>\n",
       "      <td>-0.367031</td>\n",
       "      <td>0.004076</td>\n",
       "      <td>0.172850</td>\n",
       "      <td>0.223844</td>\n",
       "      <td>-0.886803</td>\n",
       "    </tr>\n",
       "    <tr>\n",
       "      <th>3</th>\n",
       "      <td>-0.211154</td>\n",
       "      <td>-1.301385</td>\n",
       "      <td>-0.255876</td>\n",
       "      <td>-0.308762</td>\n",
       "      <td>-1.291796</td>\n",
       "      <td>-0.661126</td>\n",
       "      <td>-0.788224</td>\n",
       "      <td>-0.834410</td>\n",
       "      <td>-0.658535</td>\n",
       "      <td>-0.834209</td>\n",
       "      <td>...</td>\n",
       "      <td>-0.263312</td>\n",
       "      <td>-1.490846</td>\n",
       "      <td>-0.312546</td>\n",
       "      <td>-0.354487</td>\n",
       "      <td>-1.339335</td>\n",
       "      <td>-0.169261</td>\n",
       "      <td>-0.176669</td>\n",
       "      <td>-0.458230</td>\n",
       "      <td>-0.524077</td>\n",
       "      <td>-0.220788</td>\n",
       "    </tr>\n",
       "    <tr>\n",
       "      <th>4</th>\n",
       "      <td>-0.753945</td>\n",
       "      <td>-1.738136</td>\n",
       "      <td>-0.820314</td>\n",
       "      <td>-0.745704</td>\n",
       "      <td>-2.095198</td>\n",
       "      <td>-1.505004</td>\n",
       "      <td>-1.175403</td>\n",
       "      <td>-1.326415</td>\n",
       "      <td>-1.933950</td>\n",
       "      <td>-0.956793</td>\n",
       "      <td>...</td>\n",
       "      <td>-0.951354</td>\n",
       "      <td>-1.934512</td>\n",
       "      <td>-0.997708</td>\n",
       "      <td>-0.869505</td>\n",
       "      <td>-1.783511</td>\n",
       "      <td>-1.108951</td>\n",
       "      <td>-1.094404</td>\n",
       "      <td>-1.366747</td>\n",
       "      <td>-1.071301</td>\n",
       "      <td>-0.898278</td>\n",
       "    </tr>\n",
       "  </tbody>\n",
       "</table>\n",
       "<p>5 rows × 30 columns</p>\n",
       "</div>"
      ],
      "text/plain": [
       "   mean_radius  mean_texture  mean_perimeter  mean_area  mean_smoothness  \\\n",
       "0    -0.157678     -0.879112       -0.165550  -0.232872        -0.744948   \n",
       "1    -1.312779     -2.560965       -1.328928  -1.150194        -0.240274   \n",
       "2     0.695279     -0.420644        0.602798   0.596040        -0.947380   \n",
       "3    -0.211154     -1.301385       -0.255876  -0.308762        -1.291796   \n",
       "4    -0.753945     -1.738136       -0.820314  -0.745704        -2.095198   \n",
       "\n",
       "   mean_compactness  mean_concavity  mean_concave_points  mean_symmetry  \\\n",
       "0         -0.479220       -0.550769            -0.628488      -0.997431   \n",
       "1         -1.153621       -1.143404            -1.199934      -1.773612   \n",
       "2         -0.675307       -0.477679            -0.212084      -0.899042   \n",
       "3         -0.661126       -0.788224            -0.834410      -0.658535   \n",
       "4         -1.505004       -1.175403            -1.326415      -1.933950   \n",
       "\n",
       "   mean_fractal_dimension  ...  worst_radius  worst_texture  worst_perimeter  \\\n",
       "0               -0.392627  ...     -0.149283      -1.156442        -0.153789   \n",
       "1                0.184077  ...     -1.341759      -2.517236        -1.380396   \n",
       "2               -1.174101  ...      0.534893      -0.143296         0.445031   \n",
       "3               -0.834209  ...     -0.263312      -1.490846        -0.312546   \n",
       "4               -0.956793  ...     -0.951354      -1.934512        -0.997708   \n",
       "\n",
       "   worst_area  worst_smoothness  worst_compactness  worst_concavity  \\\n",
       "0   -0.224951          0.490637           0.139396        -0.094470   \n",
       "1   -1.124201          0.254373          -1.046076        -1.159323   \n",
       "2    0.432104         -0.613360          -0.367031         0.004076   \n",
       "3   -0.354487         -1.339335          -0.169261        -0.176669   \n",
       "4   -0.869505         -1.783511          -1.108951        -1.094404   \n",
       "\n",
       "   worst_concave_points  worst_symmetry  worst_fractal_dimension  \n",
       "0             -0.301949        0.525611                 0.511081  \n",
       "1             -1.480312       -1.387506                -0.507149  \n",
       "2              0.172850        0.223844                -0.886803  \n",
       "3             -0.458230       -0.524077                -0.220788  \n",
       "4             -1.366747       -1.071301                -0.898278  \n",
       "\n",
       "[5 rows x 30 columns]"
      ]
     },
     "execution_count": 12,
     "metadata": {},
     "output_type": "execute_result"
    }
   ],
   "source": [
    "# 변수명 저장\n",
    "v_feature_name=df_train_x.columns\n",
    "# StandardScaler 적용\n",
    "scaler = StandardScaler()\n",
    "df_scaled=scaler.fit_transform(df_raw_x)\n",
    "df_scaled=pd.DataFrame(df_scaled, columns=v_feature_name)\n",
    "df_scaled.head()"
   ]
  },
  {
   "cell_type": "code",
   "execution_count": 13,
   "metadata": {
    "scrolled": true
   },
   "outputs": [
    {
     "name": "stdout",
     "output_type": "stream",
     "text": [
      "train data X size : (192, 30)\n",
      "test data X size : (128, 30)\n"
     ]
    }
   ],
   "source": [
    "# 데이터 분할\n",
    "df_scaled_train_x, df_scaled_test_x=train_test_split(df_scaled, test_size=0.4, random_state=1234)\n",
    "print(\"train data X size : {}\".format(df_scaled_train_x.shape))\n",
    "print(\"test data X size : {}\".format(df_scaled_test_x.shape))"
   ]
  },
  {
   "cell_type": "markdown",
   "metadata": {},
   "source": [
    "-  scale이 조정된 데이터로 새로운 모델 생성"
   ]
  },
  {
   "cell_type": "code",
   "execution_count": 14,
   "metadata": {},
   "outputs": [
    {
     "name": "stdout",
     "output_type": "stream",
     "text": [
      "Accuracy on training set: 0.995\n",
      "Accuracy on test set: 0.953\n"
     ]
    }
   ],
   "source": [
    "nn_scaled=MLPClassifier(random_state=1234)\n",
    "nn_scaled.fit(df_scaled_train_x, df_train_y)\n",
    "# train 데이터 정확도\n",
    "print(\"Accuracy on training set: {:.3f}\".format(nn_scaled.score(df_scaled_train_x, df_train_y)))\n",
    "# test 데이터 정확도\n",
    "print(\"Accuracy on test set: {:.3f}\".format(nn_scaled.score(df_scaled_test_x, df_test_y)))\n"
   ]
  },
  {
   "cell_type": "markdown",
   "metadata": {},
   "source": [
    "> 모델 정확도는 train 99.5%, test 95.3%로 선능이 양호하고 유사한 수준"
   ]
  },
  {
   "cell_type": "markdown",
   "metadata": {},
   "source": [
    "- Hidden Layer : 은닉층 변경"
   ]
  },
  {
   "cell_type": "code",
   "execution_count": 15,
   "metadata": {},
   "outputs": [
    {
     "data": {
      "text/html": [
       "<div>\n",
       "<style scoped>\n",
       "    .dataframe tbody tr th:only-of-type {\n",
       "        vertical-align: middle;\n",
       "    }\n",
       "\n",
       "    .dataframe tbody tr th {\n",
       "        vertical-align: top;\n",
       "    }\n",
       "\n",
       "    .dataframe thead th {\n",
       "        text-align: right;\n",
       "    }\n",
       "</style>\n",
       "<table border=\"1\" class=\"dataframe\">\n",
       "  <thead>\n",
       "    <tr style=\"text-align: right;\">\n",
       "      <th></th>\n",
       "      <th>HiddenLayer</th>\n",
       "      <th>Trainaccuracy</th>\n",
       "      <th>Testaccuracy</th>\n",
       "    </tr>\n",
       "  </thead>\n",
       "  <tbody>\n",
       "    <tr>\n",
       "      <th>0</th>\n",
       "      <td>20</td>\n",
       "      <td>0.995</td>\n",
       "      <td>0.938</td>\n",
       "    </tr>\n",
       "    <tr>\n",
       "      <th>1</th>\n",
       "      <td>40</td>\n",
       "      <td>0.995</td>\n",
       "      <td>0.945</td>\n",
       "    </tr>\n",
       "    <tr>\n",
       "      <th>2</th>\n",
       "      <td>60</td>\n",
       "      <td>0.995</td>\n",
       "      <td>0.945</td>\n",
       "    </tr>\n",
       "    <tr>\n",
       "      <th>3</th>\n",
       "      <td>80</td>\n",
       "      <td>0.995</td>\n",
       "      <td>0.938</td>\n",
       "    </tr>\n",
       "    <tr>\n",
       "      <th>4</th>\n",
       "      <td>100</td>\n",
       "      <td>0.995</td>\n",
       "      <td>0.953</td>\n",
       "    </tr>\n",
       "    <tr>\n",
       "      <th>5</th>\n",
       "      <td>120</td>\n",
       "      <td>0.995</td>\n",
       "      <td>0.953</td>\n",
       "    </tr>\n",
       "    <tr>\n",
       "      <th>6</th>\n",
       "      <td>140</td>\n",
       "      <td>0.995</td>\n",
       "      <td>0.953</td>\n",
       "    </tr>\n",
       "    <tr>\n",
       "      <th>7</th>\n",
       "      <td>160</td>\n",
       "      <td>0.995</td>\n",
       "      <td>0.953</td>\n",
       "    </tr>\n",
       "    <tr>\n",
       "      <th>8</th>\n",
       "      <td>180</td>\n",
       "      <td>0.995</td>\n",
       "      <td>0.945</td>\n",
       "    </tr>\n",
       "    <tr>\n",
       "      <th>9</th>\n",
       "      <td>200</td>\n",
       "      <td>0.995</td>\n",
       "      <td>0.953</td>\n",
       "    </tr>\n",
       "  </tbody>\n",
       "</table>\n",
       "</div>"
      ],
      "text/plain": [
       "   HiddenLayer  Trainaccuracy  Testaccuracy\n",
       "0           20          0.995         0.938\n",
       "1           40          0.995         0.945\n",
       "2           60          0.995         0.945\n",
       "3           80          0.995         0.938\n",
       "4          100          0.995         0.953\n",
       "5          120          0.995         0.953\n",
       "6          140          0.995         0.953\n",
       "7          160          0.995         0.953\n",
       "8          180          0.995         0.945\n",
       "9          200          0.995         0.953"
      ]
     },
     "execution_count": 15,
     "metadata": {},
     "output_type": "execute_result"
    }
   ],
   "source": [
    "# train 및 test 설명력 결과 저장\n",
    "train_accuracy=[]; test_accuracy=[]\n",
    "# hidden_layer_sizes: 은닉층 변경 (20~240 by 30)\n",
    "para_hidden=[20*hidden for hidden in range(1, 11)]\n",
    "\n",
    "for v_hidden in para_hidden:\n",
    "    nn=MLPClassifier(random_state=1234, hidden_layer_sizes=v_hidden)\n",
    "    #nn=MLPClassifier(random_state=1234, hidden_layer_sizes=(v_hidden, v_hidden))\n",
    "    nn.fit(df_scaled_train_x, df_train_y)\n",
    "    train_accuracy.append(nn.score(df_scaled_train_x, df_train_y))\n",
    "    test_accuracy.append(nn.score(df_scaled_test_x, df_test_y))\n",
    "    \n",
    "# 결과 저장\n",
    "df_accuracy_hidden=pd.DataFrame()\n",
    "df_accuracy_hidden[\"HiddenLayer\"]=para_hidden\n",
    "df_accuracy_hidden[\"Trainaccuracy\"]=train_accuracy\n",
    "df_accuracy_hidden[\"Testaccuracy\"]=test_accuracy\n",
    "\n",
    "# 모델 정확도 확인\n",
    "df_accuracy_hidden.round(3)"
   ]
  },
  {
   "cell_type": "code",
   "execution_count": 16,
   "metadata": {
    "scrolled": false
   },
   "outputs": [
    {
     "data": {
      "text/plain": [
       "<matplotlib.legend.Legend at 0x17a6975c1c0>"
      ]
     },
     "execution_count": 16,
     "metadata": {},
     "output_type": "execute_result"
    },
    {
     "data": {
      "image/png": "[encoded data removed]",
      "text/plain": [
       "<Figure size 432x288 with 1 Axes>"
      ]
     },
     "metadata": {
      "needs_background": "light"
     },
     "output_type": "display_data"
    }
   ],
   "source": [
    "# 모델 정확도 그래프 확인\n",
    "plt.plot(para_hidden, train_accuracy, linestyle=\"-\", label=\"Train Accuracy\")\n",
    "plt.plot(para_hidden, test_accuracy, linestyle=\"-\", label=\"Test Accuracy\")\n",
    "plt.ylabel(\"accuracy\"); plt.xlabel(\"Hidden Layer\")\n",
    "plt.legend()"
   ]
  },
  {
   "cell_type": "markdown",
   "metadata": {},
   "source": [
    "> 은닉층 구조가 더 복잡더라도 Train 데이터의 정확도는 유지됨  \n",
    "> 데이터 성능을 고려하여 100 선택\n"
   ]
  },
  {
   "cell_type": "markdown",
   "metadata": {},
   "source": [
    "- Activation : 활성화 함수 변경"
   ]
  },
  {
   "cell_type": "code",
   "execution_count": 17,
   "metadata": {},
   "outputs": [
    {
     "data": {
      "text/html": [
       "<div>\n",
       "<style scoped>\n",
       "    .dataframe tbody tr th:only-of-type {\n",
       "        vertical-align: middle;\n",
       "    }\n",
       "\n",
       "    .dataframe tbody tr th {\n",
       "        vertical-align: top;\n",
       "    }\n",
       "\n",
       "    .dataframe thead th {\n",
       "        text-align: right;\n",
       "    }\n",
       "</style>\n",
       "<table border=\"1\" class=\"dataframe\">\n",
       "  <thead>\n",
       "    <tr style=\"text-align: right;\">\n",
       "      <th></th>\n",
       "      <th>ActivationFunction</th>\n",
       "      <th>Trainaccuracy</th>\n",
       "      <th>Testaccuracy</th>\n",
       "    </tr>\n",
       "  </thead>\n",
       "  <tbody>\n",
       "    <tr>\n",
       "      <th>0</th>\n",
       "      <td>logistic</td>\n",
       "      <td>0.990</td>\n",
       "      <td>0.938</td>\n",
       "    </tr>\n",
       "    <tr>\n",
       "      <th>1</th>\n",
       "      <td>tanh</td>\n",
       "      <td>0.990</td>\n",
       "      <td>0.945</td>\n",
       "    </tr>\n",
       "    <tr>\n",
       "      <th>2</th>\n",
       "      <td>relu</td>\n",
       "      <td>0.995</td>\n",
       "      <td>0.953</td>\n",
       "    </tr>\n",
       "  </tbody>\n",
       "</table>\n",
       "</div>"
      ],
      "text/plain": [
       "  ActivationFunction  Trainaccuracy  Testaccuracy\n",
       "0           logistic          0.990         0.938\n",
       "1               tanh          0.990         0.945\n",
       "2               relu          0.995         0.953"
      ]
     },
     "execution_count": 17,
     "metadata": {},
     "output_type": "execute_result"
    }
   ],
   "source": [
    "# train 및 test 설명력 결과 저장\n",
    "train_accuracy=[]; test_accuracy=[]\n",
    "# activation 변경\n",
    "para_function=[\"logistic\", \"tanh\", \"relu\"]\n",
    "\n",
    "for v_function in para_function:\n",
    "    nn=MLPClassifier(random_state=1234, hidden_layer_sizes=100,activation=v_function)\n",
    "    nn.fit(df_scaled_train_x, df_train_y)\n",
    "    train_accuracy.append(nn.score(df_scaled_train_x, df_train_y))\n",
    "    test_accuracy.append(nn.score(df_scaled_test_x, df_test_y))\n",
    "    \n",
    "# 결과 저장\n",
    "df_accuracy_function=pd.DataFrame()\n",
    "df_accuracy_function[\"ActivationFunction\"]=para_function\n",
    "df_accuracy_function[\"Trainaccuracy\"]=train_accuracy\n",
    "df_accuracy_function[\"Testaccuracy\"]=test_accuracy\n",
    "\n",
    "# 모델 정확도 확인\n",
    "df_accuracy_function.round(3)"
   ]
  },
  {
   "cell_type": "code",
   "execution_count": 18,
   "metadata": {
    "scrolled": true
   },
   "outputs": [
    {
     "data": {
      "text/plain": [
       "<matplotlib.legend.Legend at 0x17a6b8a9190>"
      ]
     },
     "execution_count": 18,
     "metadata": {},
     "output_type": "execute_result"
    },
    {
     "data": {
      "image/png": "[encoded data removed]",
      "text/plain": [
       "<Figure size 432x288 with 1 Axes>"
      ]
     },
     "metadata": {
      "needs_background": "light"
     },
     "output_type": "display_data"
    }
   ],
   "source": [
    "# 모델 정확도 그래프 확인\n",
    "plt.plot(para_function, train_accuracy, linestyle=\"-\", label=\"Train Accuracy\")\n",
    "plt.plot(para_function, test_accuracy, linestyle=\"-\", label=\"Test Accuracy\")\n",
    "plt.ylabel(\"accuracy\"); plt.xlabel(\"Activation Function\")\n",
    "plt.legend()"
   ]
  },
  {
   "cell_type": "markdown",
   "metadata": {},
   "source": [
    "> \"relu\" 함수의 모델이 가장 높은 정확도를 보임  "
   ]
  },
  {
   "cell_type": "markdown",
   "metadata": {},
   "source": [
    "- Slover : 가중치 최적화 변경"
   ]
  },
  {
   "cell_type": "code",
   "execution_count": 19,
   "metadata": {},
   "outputs": [
    {
     "data": {
      "text/html": [
       "<div>\n",
       "<style scoped>\n",
       "    .dataframe tbody tr th:only-of-type {\n",
       "        vertical-align: middle;\n",
       "    }\n",
       "\n",
       "    .dataframe tbody tr th {\n",
       "        vertical-align: top;\n",
       "    }\n",
       "\n",
       "    .dataframe thead th {\n",
       "        text-align: right;\n",
       "    }\n",
       "</style>\n",
       "<table border=\"1\" class=\"dataframe\">\n",
       "  <thead>\n",
       "    <tr style=\"text-align: right;\">\n",
       "      <th></th>\n",
       "      <th>Solver</th>\n",
       "      <th>Trainaccuracy</th>\n",
       "      <th>Testaccuracy</th>\n",
       "    </tr>\n",
       "  </thead>\n",
       "  <tbody>\n",
       "    <tr>\n",
       "      <th>0</th>\n",
       "      <td>lbfgs</td>\n",
       "      <td>1.000</td>\n",
       "      <td>0.953</td>\n",
       "    </tr>\n",
       "    <tr>\n",
       "      <th>1</th>\n",
       "      <td>sgd</td>\n",
       "      <td>0.958</td>\n",
       "      <td>0.906</td>\n",
       "    </tr>\n",
       "    <tr>\n",
       "      <th>2</th>\n",
       "      <td>adam</td>\n",
       "      <td>0.995</td>\n",
       "      <td>0.953</td>\n",
       "    </tr>\n",
       "  </tbody>\n",
       "</table>\n",
       "</div>"
      ],
      "text/plain": [
       "  Solver  Trainaccuracy  Testaccuracy\n",
       "0  lbfgs          1.000         0.953\n",
       "1    sgd          0.958         0.906\n",
       "2   adam          0.995         0.953"
      ]
     },
     "execution_count": 19,
     "metadata": {},
     "output_type": "execute_result"
    }
   ],
   "source": [
    "# train 및 test 설명력 결과 저장\n",
    "train_accuracy=[]; test_accuracy=[]\n",
    "# activation 변경\n",
    "para_solver=[\"lbfgs\", \"sgd\", \"adam\"]\n",
    "\n",
    "for v_solver in para_solver:\n",
    "    nn=MLPClassifier(random_state=1234, solver=v_solver, activation=\"relu\", hidden_layer_sizes=100)\n",
    "    nn.fit(df_scaled_train_x, df_train_y)\n",
    "    train_accuracy.append(nn.score(df_scaled_train_x, df_train_y))\n",
    "    test_accuracy.append(nn.score(df_scaled_test_x, df_test_y))\n",
    "    \n",
    "# 결과 저장\n",
    "df_accuracy_solver=pd.DataFrame()\n",
    "df_accuracy_solver[\"Solver\"]=para_solver\n",
    "df_accuracy_solver[\"Trainaccuracy\"]=train_accuracy\n",
    "df_accuracy_solver[\"Testaccuracy\"]=test_accuracy\n",
    "\n",
    "# 모델 정확도 확인\n",
    "df_accuracy_solver.round(3)"
   ]
  },
  {
   "cell_type": "code",
   "execution_count": 20,
   "metadata": {},
   "outputs": [
    {
     "data": {
      "text/plain": [
       "<matplotlib.legend.Legend at 0x17a6b8fb250>"
      ]
     },
     "execution_count": 20,
     "metadata": {},
     "output_type": "execute_result"
    },
    {
     "data": {
      "image/png": "[encoded data removed]",
      "text/plain": [
       "<Figure size 432x288 with 1 Axes>"
      ]
     },
     "metadata": {
      "needs_background": "light"
     },
     "output_type": "display_data"
    }
   ],
   "source": [
    "# 모델 정확도 그래프 확인\n",
    "plt.plot(para_solver, train_accuracy, linestyle=\"-\", label=\"Train Accuracy\")\n",
    "plt.plot(para_solver, test_accuracy, linestyle=\"-\", label=\"Test Accuracy\")\n",
    "plt.ylabel(\"accuracy\"); plt.xlabel(\"Solver\")\n",
    "plt.legend()"
   ]
  },
  {
   "cell_type": "markdown",
   "metadata": {},
   "source": [
    "\n",
    "> \"lbfgs\"와 \"adam\" 최적화 모델이 Test 데이터에 대해 같고 가장 높은 정확도를 보임.  \n",
    "> 하지만 과적합을 고려하여 \"adam\" 모델 선택"
   ]
  },
  {
   "cell_type": "markdown",
   "metadata": {},
   "source": [
    "- Mini Batch 변경"
   ]
  },
  {
   "cell_type": "code",
   "execution_count": 21,
   "metadata": {},
   "outputs": [
    {
     "data": {
      "text/html": [
       "<div>\n",
       "<style scoped>\n",
       "    .dataframe tbody tr th:only-of-type {\n",
       "        vertical-align: middle;\n",
       "    }\n",
       "\n",
       "    .dataframe tbody tr th {\n",
       "        vertical-align: top;\n",
       "    }\n",
       "\n",
       "    .dataframe thead th {\n",
       "        text-align: right;\n",
       "    }\n",
       "</style>\n",
       "<table border=\"1\" class=\"dataframe\">\n",
       "  <thead>\n",
       "    <tr style=\"text-align: right;\">\n",
       "      <th></th>\n",
       "      <th>Mini Batch</th>\n",
       "      <th>Trainaccuracy</th>\n",
       "      <th>Testaccuracy</th>\n",
       "    </tr>\n",
       "  </thead>\n",
       "  <tbody>\n",
       "    <tr>\n",
       "      <th>0</th>\n",
       "      <td>20</td>\n",
       "      <td>1.000</td>\n",
       "      <td>0.945</td>\n",
       "    </tr>\n",
       "    <tr>\n",
       "      <th>1</th>\n",
       "      <td>40</td>\n",
       "      <td>1.000</td>\n",
       "      <td>0.953</td>\n",
       "    </tr>\n",
       "    <tr>\n",
       "      <th>2</th>\n",
       "      <td>60</td>\n",
       "      <td>1.000</td>\n",
       "      <td>0.945</td>\n",
       "    </tr>\n",
       "    <tr>\n",
       "      <th>3</th>\n",
       "      <td>80</td>\n",
       "      <td>1.000</td>\n",
       "      <td>0.953</td>\n",
       "    </tr>\n",
       "    <tr>\n",
       "      <th>4</th>\n",
       "      <td>100</td>\n",
       "      <td>1.000</td>\n",
       "      <td>0.953</td>\n",
       "    </tr>\n",
       "    <tr>\n",
       "      <th>5</th>\n",
       "      <td>120</td>\n",
       "      <td>1.000</td>\n",
       "      <td>0.953</td>\n",
       "    </tr>\n",
       "    <tr>\n",
       "      <th>6</th>\n",
       "      <td>140</td>\n",
       "      <td>1.000</td>\n",
       "      <td>0.953</td>\n",
       "    </tr>\n",
       "    <tr>\n",
       "      <th>7</th>\n",
       "      <td>160</td>\n",
       "      <td>0.995</td>\n",
       "      <td>0.953</td>\n",
       "    </tr>\n",
       "    <tr>\n",
       "      <th>8</th>\n",
       "      <td>180</td>\n",
       "      <td>0.995</td>\n",
       "      <td>0.953</td>\n",
       "    </tr>\n",
       "  </tbody>\n",
       "</table>\n",
       "</div>"
      ],
      "text/plain": [
       "   Mini Batch  Trainaccuracy  Testaccuracy\n",
       "0          20          1.000         0.945\n",
       "1          40          1.000         0.953\n",
       "2          60          1.000         0.945\n",
       "3          80          1.000         0.953\n",
       "4         100          1.000         0.953\n",
       "5         120          1.000         0.953\n",
       "6         140          1.000         0.953\n",
       "7         160          0.995         0.953\n",
       "8         180          0.995         0.953"
      ]
     },
     "execution_count": 21,
     "metadata": {},
     "output_type": "execute_result"
    }
   ],
   "source": [
    "# train 및 test 설명력 결과 저장\n",
    "train_accuracy=[]; test_accuracy=[]\n",
    "# Mini Batch 변경\n",
    "para_batch=[20*batch for batch in range(1, 10)]\n",
    "\n",
    "for v_batch in para_batch:\n",
    "    nn=MLPClassifier(random_state=1234, batch_size=v_batch, solver=\"adam\", activation=\"relu\", hidden_layer_sizes=100)\n",
    "    nn.fit(df_scaled_train_x, df_train_y)\n",
    "    train_accuracy.append(nn.score(df_scaled_train_x, df_train_y))\n",
    "    test_accuracy.append(nn.score(df_scaled_test_x, df_test_y))\n",
    "    \n",
    "# 결과 저장\n",
    "df_accuracy_batch=pd.DataFrame()\n",
    "df_accuracy_batch[\"Mini Batch\"]=para_batch\n",
    "df_accuracy_batch[\"Trainaccuracy\"]=train_accuracy\n",
    "df_accuracy_batch[\"Testaccuracy\"]=test_accuracy\n",
    "\n",
    "# 모델 정확도 확인\n",
    "df_accuracy_batch.round(3)"
   ]
  },
  {
   "cell_type": "code",
   "execution_count": 22,
   "metadata": {},
   "outputs": [
    {
     "data": {
      "text/plain": [
       "<matplotlib.legend.Legend at 0x17a6b95ddc0>"
      ]
     },
     "execution_count": 22,
     "metadata": {},
     "output_type": "execute_result"
    },
    {
     "data": {
      "image/png": "[encoded data removed]",
      "text/plain": [
       "<Figure size 432x288 with 1 Axes>"
      ]
     },
     "metadata": {
      "needs_background": "light"
     },
     "output_type": "display_data"
    }
   ],
   "source": [
    "# 모델 정확도 그래프 확인\n",
    "plt.plot(para_batch, train_accuracy, linestyle=\"-\", label=\"Train Accuracy\")\n",
    "plt.plot(para_batch, test_accuracy, linestyle=\"-\", label=\"Test Accuracy\")\n",
    "plt.ylabel(\"accuracy\"); plt.xlabel(\"Mini Batch Size\")\n",
    "plt.legend()"
   ]
  },
  {
   "cell_type": "markdown",
   "metadata": {},
   "source": [
    "\n",
    "> train 데이터에는 과적합 경향,   \n",
    "> test 데이터 성능은 미니 배치 크기가 80이상일 때, 유지된다.  \n",
    "> 데이터 성능을 고려햐여 40 선택"
   ]
  },
  {
   "cell_type": "markdown",
   "metadata": {},
   "source": [
    "## 3. 최종 모델 선정 및 평가"
   ]
  },
  {
   "cell_type": "markdown",
   "metadata": {},
   "source": [
    "### [목표변수 범주 예측 및 최종 모델 평가]"
   ]
  },
  {
   "cell_type": "code",
   "execution_count": 23,
   "metadata": {
    "scrolled": true
   },
   "outputs": [
    {
     "name": "stdout",
     "output_type": "stream",
     "text": [
      "목표변수 범주 예측값:\n",
      " [0 0 1 0 0 0 0 0 1 0 0 0 0 1 1 0 1 1 1 0 0 0 0 0 0 0 1 0 0 0 1 1 0 1 0 0 0\n",
      " 0 1 0 0 1 1 0 0 1 0 1 0 1 0 1 0 1 0 0 0 0 1 0 1 0 0 0 0 1 1 0 0 0 0 0 0 0\n",
      " 0 0 0 0 0 0 0 1 1 0 0 0 1 0 0 0 1 1 0 0 1 0 0 0 0 0 0 1 0 0 0 1 0 1 0 1 0\n",
      " 1 0 0 0 1 0 0 0 0 0 0 1 0 0 0 0 1] \n",
      "\n",
      "Accuracy on training set: 1.000\n",
      "\n",
      "Accuracy on test set: 0.953\n",
      "\n",
      "Confusion matrix: \n",
      "[[91  6]\n",
      " [ 0 31]]\n"
     ]
    }
   ],
   "source": [
    "# 최종 모델\n",
    "nn_final=MLPClassifier(random_state=1234, batch_size=40, solver=\"adam\", activation=\"relu\", hidden_layer_sizes=100)\n",
    "nn_final.fit(df_scaled_train_x, df_train_y)\n",
    "\n",
    "# 예측\n",
    "y_pred=nn_final.predict(df_scaled_test_x)\n",
    "# 1: 양성, 0: 음성\n",
    "print(\"목표변수 범주 예측값:\\n\", y_pred, \"\\n\")\n",
    "\n",
    "# train 데이터 셋 정확도\n",
    "print(\"Accuracy on training set: {0:.3f}\\n\".format(nn_final.score(df_scaled_train_x, df_train_y)))\n",
    "# test 데이터 셋 정확도\n",
    "print(\"Accuracy on test set: {0:.3f}\\n\".format(nn_final.score(df_scaled_test_x, df_test_y)))\n",
    "# confusion matrix\n",
    "print(\"Confusion matrix: \\n{}\".format(confusion_matrix(df_test_y, y_pred)))"
   ]
  },
  {
   "cell_type": "markdown",
   "metadata": {},
   "source": [
    "> 모델 모델의 정확도는 train 100%, test 95.3%로 성능이 양호하고   \n",
    "> train 데이터에 과적합  \n",
    "\n",
    "> Confusion matrix를 보았을 때, FN 값이 0으로 실제 양성인 환자를 음성으로 판단한 경우가 없다는   \n",
    "> 의미로 큰 위험은 피했다고 볼 수 있다. "
   ]
  },
  {
   "cell_type": "code",
   "execution_count": null,
   "metadata": {},
   "outputs": [],
   "source": []
  }
 ],
 "metadata": {
  "kernelspec": {
   "display_name": "Python 3",
   "language": "python",
   "name": "python3"
  },
  "language_info": {
   "codemirror_mode": {
    "name": "ipython",
    "version": 3
   },
   "file_extension": ".py",
   "mimetype": "text/x-python",
   "name": "python",
   "nbconvert_exporter": "python",
   "pygments_lexer": "ipython3",
   "version": "3.8.5"
  }
 },
 "nbformat": 4,
 "nbformat_minor": 4
}
