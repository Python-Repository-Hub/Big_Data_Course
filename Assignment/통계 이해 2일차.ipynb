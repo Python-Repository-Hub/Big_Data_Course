{
 "cells": [
  {
   "cell_type": "code",
   "execution_count": 1,
   "metadata": {},
   "outputs": [],
   "source": [
    "import numpy as np\n",
    "from scipy import stats\n",
    "import scipy.stats\n",
    "import pandas as pd\n",
    "import statsmodels.api as sm\n",
    "import matplotlib.pyplot as plt\n",
    "import seaborn as sns\n",
    "from statsmodels.stats.proportion import proportions_ztest"
   ]
  },
  {
   "cell_type": "markdown",
   "metadata": {},
   "source": [
    "# 1. T-분포 실습(p.54)\n",
    "확률변수 t는 자유도가 100인 t-분포를 따른다.  \n",
    "t 값이 2.0일 때, P(T<=t)을 계산하시오."
   ]
  },
  {
   "cell_type": "code",
   "execution_count": 2,
   "metadata": {},
   "outputs": [
    {
     "name": "stdout",
     "output_type": "stream",
     "text": [
      "P(T<=F): 0.976\n"
     ]
    }
   ],
   "source": [
    "t=2.0\n",
    "df=100\n",
    "# 누적확률 값 계산\n",
    "prob=stats.t.cdf(t, df)\n",
    "print(\"P(T<=F): {:.3f}\".format(prob))"
   ]
  },
  {
   "cell_type": "markdown",
   "metadata": {},
   "source": [
    "> __T-분포__ : 정규 분포의 평균을 측정할 때 주로 사용하는 확률분포\n",
    "\n",
    "> 확률변수 t가 자유도 100인 t-분포를 따른다고 했을 때, __P(T<=2) = 0.976__ 이다."
   ]
  },
  {
   "cell_type": "markdown",
   "metadata": {},
   "source": [
    "# 2. 카이제곱 분포 실습(p.58)\n",
    "X^2 분포 그리기 연습(자유도 변화에 따른 분포 변화 이해하기)  \n",
    "- Random Data 생성 : n=1000, degree of freedom = 3  \n",
    "- Random Data 생성 : n=1000, degree of freedom = 50  "
   ]
  },
  {
   "cell_type": "code",
   "execution_count": 4,
   "metadata": {},
   "outputs": [
    {
     "name": "stderr",
     "output_type": "stream",
     "text": [
      "C:\\Users\\82105\\Anaconda3\\lib\\site-packages\\seaborn\\distributions.py:2551: FutureWarning: `distplot` is a deprecated function and will be removed in a future version. Please adapt your code to use either `displot` (a figure-level function with similar flexibility) or `histplot` (an axes-level function for histograms).\n",
      "  warnings.warn(msg, FutureWarning)\n"
     ]
    },
    {
     "data": {
      "text/plain": [
       "<AxesSubplot:>"
      ]
     },
     "execution_count": 4,
     "metadata": {},
     "output_type": "execute_result"
    },
    {
     "data": {
      "image/png": "[encoded data removed]",
      "text/plain": [
       "<Figure size 432x288 with 1 Axes>"
      ]
     },
     "metadata": {
      "needs_background": "light"
     },
     "output_type": "display_data"
    }
   ],
   "source": [
    "# seed 선택을 하여 매번 실행 시 동일한 값이 나오도록 설정\n",
    "np.random.seed(seed=1234)\n",
    "\n",
    "# 자우도: 3, 데이터 수: 1000개의 X^2 분포를 따르는 데이터 생성\n",
    "chisq_df3 = np.random.chisquare(df=3, size=1000)\n",
    "\n",
    "# histogram, fit: 정규분포 선 생성, kde: X^2 분포의 kde 생성 안 함\n",
    "sns.distplot(chisq_df3, fit = stats.norm, kde = False)"
   ]
  },
  {
   "cell_type": "code",
   "execution_count": 5,
   "metadata": {},
   "outputs": [
    {
     "name": "stderr",
     "output_type": "stream",
     "text": [
      "C:\\Users\\82105\\Anaconda3\\lib\\site-packages\\seaborn\\distributions.py:2551: FutureWarning: `distplot` is a deprecated function and will be removed in a future version. Please adapt your code to use either `displot` (a figure-level function with similar flexibility) or `histplot` (an axes-level function for histograms).\n",
      "  warnings.warn(msg, FutureWarning)\n"
     ]
    },
    {
     "data": {
      "text/plain": [
       "<AxesSubplot:ylabel='Density'>"
      ]
     },
     "execution_count": 5,
     "metadata": {},
     "output_type": "execute_result"
    },
    {
     "data": {
      "image/png": "[encoded data removed]",
      "text/plain": [
       "<Figure size 432x288 with 1 Axes>"
      ]
     },
     "metadata": {
      "needs_background": "light"
     },
     "output_type": "display_data"
    }
   ],
   "source": [
    "# seed 선택을 하여 매번 실행 시 동일한 값이 나오도록 설정\n",
    "np.random.seed(seed=1234)\n",
    "\n",
    "# 자우도: 3, 데이터 수: 1000개의 X^2 분포를 따르는 데이터 생성\n",
    "chisq_df50 = np.random.chisquare(df=50, size=1000)\n",
    "\n",
    "# histogram, fit: 정규분포 선 생성, kde: X^2 분포의 kde 생성 안 함\n",
    "sns.distplot(chisq_df50, fit = stats.norm, kde = True)"
   ]
  },
  {
   "cell_type": "markdown",
   "metadata": {},
   "source": [
    "> 위와 같이 자유도가 클수록(데이터가 많을 수록) 정규분포 형태가 된다"
   ]
  },
  {
   "cell_type": "markdown",
   "metadata": {},
   "source": [
    "# 3. 카이제곱 분포 실습(p.60)\n",
    "확률변수 x^2는 자유도가 8인 x^2-분포를 따른다.  \n",
    "X^2값이 3.0일 때, P(X<=x^2)을 계산하시오."
   ]
  },
  {
   "cell_type": "code",
   "execution_count": 23,
   "metadata": {},
   "outputs": [
    {
     "name": "stdout",
     "output_type": "stream",
     "text": [
      "P(X<=3.0):0.0656\n"
     ]
    }
   ],
   "source": [
    "chisq=3.0\n",
    "df=8\n",
    "#누적확률 값 계산\n",
    "prob=stats.chi2.cdf(chisq, df)\n",
    "print(\"P(X<={0}):{1:.4f}\".format(chisq, prob))"
   ]
  },
  {
   "cell_type": "markdown",
   "metadata": {},
   "source": [
    "> __카이제곱 분포__ : 정규분포를 따르는 모집단에서 크기가 n인 표본을 무작위로 반복하여 추출하였을 때, 각 표본에 대해 구한 표본분산들이 따르는 확률분포\n",
    "> - 모집단의 분산 추정\n",
    "\n",
    "> 확률변수 x^2이 자유도가 8인 카이제곱 분포를 따른다고 했을 때, __P(X<=3)=0.0656__ 이다."
   ]
  },
  {
   "cell_type": "markdown",
   "metadata": {},
   "source": [
    "# 4. F-분포 실습(p.64)\n",
    "확률변수 F는 각각 자유도가 10, 100인 F-분포를 따른다.  \n",
    "F 값이 1.5일 때, P(X<=F)을 계산하시오."
   ]
  },
  {
   "cell_type": "code",
   "execution_count": 7,
   "metadata": {},
   "outputs": [
    {
     "name": "stdout",
     "output_type": "stream",
     "text": [
      "P(X<=F):0.850\n"
     ]
    }
   ],
   "source": [
    "f=1.5\n",
    "dfnum=10\n",
    "dfden=100\n",
    "\n",
    "# 누적확률 값 계산\n",
    "prob = stats.f.cdf(x=f, dfn=dfnum, dfd=dfden)\n",
    "print(\"P(X<=F):{:.3f}\".format(prob))"
   ]
  },
  {
   "cell_type": "markdown",
   "metadata": {},
   "source": [
    "> F-분포 : 분산이 같은 두 정규모집단으로부터 크기 n1과 크기 n2의 확률표본을 반복하여 독립적으로 추출한 후, 구한 두 표본분산의 비율들의 표본분포  \n",
    "> - 두 분포의 분산을 비교하는데 활용\n",
    "\n",
    "> 확률변수 F가 각각 자유도 10, 100인 F-분포를 따른다고 했을 때, __P(X<=1.5)=0.850__ 이다."
   ]
  },
  {
   "cell_type": "markdown",
   "metadata": {},
   "source": [
    "# 5. Weibull 분포 실습(p.68)\n",
    "어떤 제품의 수명시간 x가 형상모수 5.2, 척도모수 2,200인와이블 분포를 따른다고 할 때,  \n",
    "이 제품이 적어도 2,500 시간 이상 작동할 확률을 구하라."
   ]
  },
  {
   "cell_type": "code",
   "execution_count": 25,
   "metadata": {},
   "outputs": [
    {
     "name": "stdout",
     "output_type": "stream",
     "text": [
      "P(X>x):0.143\n"
     ]
    }
   ],
   "source": [
    "x=2500\n",
    "alpha=5.2\n",
    "beta=2200\n",
    "# 누적확률 값 계산\n",
    "prob=stats.weibull_min.cdf(x, alpha, scale=beta)\n",
    "print(\"P(X>x):{:.3f}\".format(1-prob))"
   ]
  },
  {
   "cell_type": "markdown",
   "metadata": {},
   "source": [
    "> __와이블 분포__ : 지수분포를 보다 일반화 시켜, 여러 다양한 확률분포 형태를 모두 나타낼 수 있도록 고안됨  \n",
    "> - 설비 또는 부품의 수명 추정 분석에 활용됨\n",
    "\n",
    "> 제품의 수명시간 x가 형상모수 5.2, 척도모수 2,200인 와이블 분포를 따른다고 할 때,  \n",
    "> 이 제품이 적어도 2,500 시간 이상 작동할 확률 = __P(X>2500) = 0.143__ 이다."
   ]
  },
  {
   "cell_type": "markdown",
   "metadata": {},
   "source": [
    "# 6. 이항분포 실습(p.75)\n",
    "- 도장공정에서 광택도 불량이 30%나 된다고 함\n",
    "- 5대의 차량을 임의로 선택했을 때 불량대수가 각각 0, 1, 2, 3, 4, 5대가 나올 확률은 얼마인가요?"
   ]
  },
  {
   "cell_type": "code",
   "execution_count": 9,
   "metadata": {},
   "outputs": [
    {
     "name": "stdout",
     "output_type": "stream",
     "text": [
      "P(X=0)=0.168\n",
      "P(X=1)=0.360\n",
      "P(X=2)=0.309\n",
      "P(X=3)=0.132\n",
      "P(X=4)=0.028\n",
      "P(X=5)=0.002\n"
     ]
    }
   ],
   "source": [
    "# n의 수\n",
    "n=5\n",
    "for i in range(n+1):\n",
    "    # 이항분포 Probability Mass Function\n",
    "    prob = stats.binom.pmf(k=i, n=n, p=0.3)\n",
    "    print(\"P(X={0})={1:.3f}\".format(i, prob))"
   ]
  },
  {
   "cell_type": "markdown",
   "metadata": {},
   "source": [
    "> __이항분포__ : 베르누이 실험을 여러 번 시행해서 특정한 횟수의 성공/실패 또는 양품/불량품이 나타날 확률을 알고자 할 때, 사용되는 분포  \n",
    "> 불량품이 나올 확률(p) = 0.3 => 양품이 나올 확률(1-p) = 0.7  \n",
    "\n",
    "> 5대의 차량을 임의로 선택했을 때, \n",
    "> - 불량대수가 0대가 나올 확률 = __P(X=0)=0.168__,  \n",
    "> - 불량대수가 1대가 나올 확률 = __P(X=1)=0.360__,\n",
    "> - 불량대수가 2대가 나올 확률 = __P(X=2)=0.309__,\n",
    "> - 불량대수가 1대가 나올 확률 = __P(X=3)=0.132__,\n",
    "> - 불량대수가 1대가 나올 확률 = __P(X=4)=0.028__,\n",
    "> - 불량대수가 1대가 나올 확률 = __P(X=5)=0.002__ 입니다.\n",
    "\n",
    ">> 따라서 5대의 차량을 임의로 선택했을 때, 불량이 1대 일 가능성이 가장 크다."
   ]
  },
  {
   "cell_type": "markdown",
   "metadata": {},
   "source": [
    "# 7. 포아송 분포 실습(p.78)\n",
    "- 한 상점에는 평균 1시간에 3명씩 포아송분포로 손님이 도착한다.\n",
    "- 이 때 10시에서 11시 사이에 다음이 발생할 확률을 구하시오.\n",
    "1. 2명의 손님이 도착\n",
    "2. 1명 이하의 손님이 도착\n",
    "3. 3명 이상의 손님이 도착"
   ]
  },
  {
   "cell_type": "code",
   "execution_count": 10,
   "metadata": {},
   "outputs": [
    {
     "name": "stdout",
     "output_type": "stream",
     "text": [
      "10시에서 11시 사이에 2명의 손님이 도착할 확률 : 22.4%\n",
      "10시에서 11시 사이에 1명 이하의 손님이 도착할 확률 : 19.9%\n",
      "10시에서 11시 사이에 3명 이상의 손님이 도착할 확률 : 35.3%\n"
     ]
    }
   ],
   "source": [
    "# 평균\n",
    "mu=3\n",
    "# 1. 1시간동안 2명의 손님이 도착할 확률\n",
    "prob1=stats.poisson.pmf(2, mu)\n",
    "# 2. 1시간동안 1명 이하의 손님이 도착할 확률\n",
    "prob2=stats.poisson.cdf(1, mu)\n",
    "# 3. 1시간동안 3명 이상의 손님이 도착할 확률(1-prob3)\n",
    "prob3=stats.poisson.cdf(3, mu)\n",
    "\n",
    "print(\"10시에서 11시 사이에 {0}명의 손님이 도착할 확률 : {1:.1f}%\".format(2, prob1*100))\n",
    "print(\"10시에서 11시 사이에 {0}명 이하의 손님이 도착할 확률 : {1:.1f}%\".format(1, prob2*100))\n",
    "print(\"10시에서 11시 사이에 {0}명 이상의 손님이 도착할 확률 : {1:.1f}%\".format(3, (1-prob3)*100))"
   ]
  },
  {
   "cell_type": "markdown",
   "metadata": {},
   "source": [
    "> __포아송 분포__ : 일정한 시간 또는 일정한 공간에서 발생하는 성공횟수에 대한 이산확률분포  \n",
    "> 일정한 시간 -> 10시에서 11시 사이(1시간)  \n",
    "> 발생하는 성공 횟수 -> 도착하는 손님의 수  \n",
    "\n",
    "> 포아송 분포를 이용할 때, 10시부터 11시 사이에\n",
    "> - 2명의 손님이 도착할 확률 = Pr(X=2) = 0.224 (22.4%),\n",
    "> - 1명 이하의 손님이 도착할 확률 = Pr(X<=1) = 0.199 (19.9%),\n",
    "> - 3명 이상의 손님이 도착할 확률 = Pr(X>=3) = 0.353 (35.3%) 이다.\n"
   ]
  },
  {
   "cell_type": "markdown",
   "metadata": {},
   "source": [
    "# 8. 정규성 검정 실습(p.96)\n",
    "1. 실습파일 2sample_t_test.csv을 불러온다\n",
    "2. 변수, Mat_A와 Mat_B에 대해 각각 정규성을 검정합니다\n",
    "- (data set: 2sample_t_test.csv)"
   ]
  },
  {
   "cell_type": "code",
   "execution_count": 15,
   "metadata": {},
   "outputs": [
    {
     "data": {
      "text/html": [
       "<div>\n",
       "<style scoped>\n",
       "    .dataframe tbody tr th:only-of-type {\n",
       "        vertical-align: middle;\n",
       "    }\n",
       "\n",
       "    .dataframe tbody tr th {\n",
       "        vertical-align: top;\n",
       "    }\n",
       "\n",
       "    .dataframe thead th {\n",
       "        text-align: right;\n",
       "    }\n",
       "</style>\n",
       "<table border=\"1\" class=\"dataframe\">\n",
       "  <thead>\n",
       "    <tr style=\"text-align: right;\">\n",
       "      <th></th>\n",
       "      <th>Mat_A</th>\n",
       "      <th>Mat_B</th>\n",
       "      <th>Total</th>\n",
       "      <th>Sub</th>\n",
       "    </tr>\n",
       "  </thead>\n",
       "  <tbody>\n",
       "    <tr>\n",
       "      <th>0</th>\n",
       "      <td>73.4</td>\n",
       "      <td>68.7</td>\n",
       "      <td>73.4</td>\n",
       "      <td>1</td>\n",
       "    </tr>\n",
       "    <tr>\n",
       "      <th>1</th>\n",
       "      <td>77.0</td>\n",
       "      <td>71.4</td>\n",
       "      <td>77.0</td>\n",
       "      <td>1</td>\n",
       "    </tr>\n",
       "    <tr>\n",
       "      <th>2</th>\n",
       "      <td>73.7</td>\n",
       "      <td>69.8</td>\n",
       "      <td>73.7</td>\n",
       "      <td>1</td>\n",
       "    </tr>\n",
       "    <tr>\n",
       "      <th>3</th>\n",
       "      <td>73.3</td>\n",
       "      <td>75.3</td>\n",
       "      <td>73.3</td>\n",
       "      <td>1</td>\n",
       "    </tr>\n",
       "    <tr>\n",
       "      <th>4</th>\n",
       "      <td>73.1</td>\n",
       "      <td>71.3</td>\n",
       "      <td>73.1</td>\n",
       "      <td>1</td>\n",
       "    </tr>\n",
       "  </tbody>\n",
       "</table>\n",
       "</div>"
      ],
      "text/plain": [
       "   Mat_A  Mat_B  Total  Sub\n",
       "0   73.4   68.7   73.4    1\n",
       "1   77.0   71.4   77.0    1\n",
       "2   73.7   69.8   73.7    1\n",
       "3   73.3   75.3   73.3    1\n",
       "4   73.1   71.3   73.1    1"
      ]
     },
     "execution_count": 15,
     "metadata": {},
     "output_type": "execute_result"
    }
   ],
   "source": [
    "from scipy.stats import shapiro\n",
    "# 2sample_t_test 데이터 가져오기\n",
    "ds_2sample=pd.read_csv(\"../data/2sample_t_test.csv\", engine='python')\n",
    "ds_2sample=ds_2sample.dropna(axis=0)\n",
    "ds_2sample.head()"
   ]
  },
  {
   "cell_type": "code",
   "execution_count": 16,
   "metadata": {},
   "outputs": [
    {
     "data": {
      "text/plain": [
       "ShapiroResult(statistic=0.9062638878822327, pvalue=0.25630074739456177)"
      ]
     },
     "execution_count": 16,
     "metadata": {},
     "output_type": "execute_result"
    }
   ],
   "source": [
    "# Mat_A\n",
    "data_A=ds_2sample['Mat_A']\n",
    "# 정규성 검정\n",
    "shapiro(data_A)"
   ]
  },
  {
   "cell_type": "code",
   "execution_count": 17,
   "metadata": {},
   "outputs": [
    {
     "name": "stdout",
     "output_type": "stream",
     "text": [
      "Shapiro-Wilk Test: statistic=0.9062638878822327, p-value=0.25630074739456177\n"
     ]
    }
   ],
   "source": [
    "# Shapiro-Wilk test\n",
    "statistic, p = stats.shapiro(data_A)\n",
    "print(\"Shapiro-Wilk Test: statistic={}, p-value={}\".format(statistic, p))"
   ]
  },
  {
   "cell_type": "code",
   "execution_count": 18,
   "metadata": {},
   "outputs": [
    {
     "data": {
      "text/plain": [
       "ShapiroResult(statistic=0.9729756116867065, pvalue=0.9169799089431763)"
      ]
     },
     "execution_count": 18,
     "metadata": {},
     "output_type": "execute_result"
    }
   ],
   "source": [
    "# Mat_B\n",
    "data_B=ds_2sample['Mat_B']\n",
    "# 정규성 검정\n",
    "shapiro(data_B)"
   ]
  },
  {
   "cell_type": "code",
   "execution_count": 19,
   "metadata": {
    "scrolled": true
   },
   "outputs": [
    {
     "name": "stdout",
     "output_type": "stream",
     "text": [
      "Shapiro-Wilk Test: statistic=0.9729756116867065, p-value=0.9169799089431763\n"
     ]
    }
   ],
   "source": [
    "# Shapiro-Wilk test\n",
    "statistic, p = stats.shapiro(data_B)\n",
    "print(\"Shapiro-Wilk Test: statistic={}, p-value={}\".format(statistic, p))"
   ]
  },
  {
   "cell_type": "markdown",
   "metadata": {},
   "source": [
    "> 정규성 검정결과(95% 신뢰수준 사용시), Mat_A와 Mat_B 둘다 각각 p-value가 0.05보다 크므로 __정규성을 가지고 있다__고 판단된다."
   ]
  },
  {
   "cell_type": "markdown",
   "metadata": {},
   "source": [
    "# 9. 모평균 추정(모표준편차 아는 경우)(p.99)\n",
    "새로운 품종의 감자 20 Box을 랜덤추출하여 무게를 측정할 결과가 다음과 같음.  \n",
    "(단, 모표준편차는 0.38로 알려져 있음)  \n",
    "이 자료로부터 신품종 감자의 평균 무게에 대한 95% 신뢰구간을 구하시오."
   ]
  },
  {
   "cell_type": "code",
   "execution_count": 20,
   "metadata": {},
   "outputs": [
    {
     "data": {
      "text/html": [
       "<div>\n",
       "<style scoped>\n",
       "    .dataframe tbody tr th:only-of-type {\n",
       "        vertical-align: middle;\n",
       "    }\n",
       "\n",
       "    .dataframe tbody tr th {\n",
       "        vertical-align: top;\n",
       "    }\n",
       "\n",
       "    .dataframe thead th {\n",
       "        text-align: right;\n",
       "    }\n",
       "</style>\n",
       "<table border=\"1\" class=\"dataframe\">\n",
       "  <thead>\n",
       "    <tr style=\"text-align: right;\">\n",
       "      <th></th>\n",
       "      <th>sample</th>\n",
       "    </tr>\n",
       "  </thead>\n",
       "  <tbody>\n",
       "    <tr>\n",
       "      <th>0</th>\n",
       "      <td>18</td>\n",
       "    </tr>\n",
       "    <tr>\n",
       "      <th>1</th>\n",
       "      <td>18</td>\n",
       "    </tr>\n",
       "    <tr>\n",
       "      <th>2</th>\n",
       "      <td>20</td>\n",
       "    </tr>\n",
       "    <tr>\n",
       "      <th>3</th>\n",
       "      <td>21</td>\n",
       "    </tr>\n",
       "    <tr>\n",
       "      <th>4</th>\n",
       "      <td>20</td>\n",
       "    </tr>\n",
       "  </tbody>\n",
       "</table>\n",
       "</div>"
      ],
      "text/plain": [
       "   sample\n",
       "0      18\n",
       "1      18\n",
       "2      20\n",
       "3      21\n",
       "4      20"
      ]
     },
     "execution_count": 20,
     "metadata": {},
     "output_type": "execute_result"
    }
   ],
   "source": [
    "# df를 직접 입력\n",
    "df = pd.DataFrame({'sample': [18,18,20,21,20,23,19,18,17,21,22,20,20,21,20,19,19,18,17,19]})\n",
    "df.head()"
   ]
  },
  {
   "cell_type": "code",
   "execution_count": 21,
   "metadata": {
    "scrolled": true
   },
   "outputs": [
    {
     "name": "stdout",
     "output_type": "stream",
     "text": [
      "신뢰구간: ([17.83], [21.17])\n"
     ]
    }
   ],
   "source": [
    "# 정규분포 구간 추정 함수 실행\n",
    "lower, upper = stats.norm.interval(0.95, loc=np.mean(df), scale=3.8/np.sqrt(20))\n",
    "print(\"신뢰구간: ({0}, {1})\".format(lower.round(2), upper.round(2)))"
   ]
  },
  {
   "cell_type": "markdown",
   "metadata": {},
   "source": [
    "> 모표준편차를 알고 있기 때문에 정규분포를 이용하여, 신품종 감자의 평균 무게에 대한 95% 신뢰구간을 구해보면 __(17.83, 21.17)__이 나온다."
   ]
  },
  {
   "cell_type": "markdown",
   "metadata": {},
   "source": [
    "# 10. 모평균 추정(모표준편차 모르는 경우)(p.102)\n",
    "제품개발자는 새로 개발된 강종의 평균 인장강도를 70kg/mm^2으로 기대하고 있음.  \n",
    "이를 검증하기 위해 시험 생산되는 강종 중 임의로 20개의 코일을 대상으로 랜덤하게 시편을 채취하였음.\n",
    "상기 자료로부터 표본평균은 71.50kg/mm^2, 표본표준편차는 1.933kg/mm^2 임을 알았음.  \n",
    "이 모평균값의 95% 신뢰구간을 추정하시오."
   ]
  },
  {
   "cell_type": "code",
   "execution_count": 22,
   "metadata": {},
   "outputs": [
    {
     "name": "stdout",
     "output_type": "stream",
     "text": [
      "신뢰구간: ([70.6], [72.4])\n"
     ]
    }
   ],
   "source": [
    "# df를 직접 입력\n",
    "df = pd.DataFrame({'sample': [73,71,74,69,70,73,70,68,75,72,70,72,73,70,70,\n",
    "                              72,71,70,75,72]})\n",
    "\n",
    "#정규분포 구간 추정 함수 실행\n",
    "lower, upper = stats.t.interval(0.95, len(df)-1, loc=np.mean(df), scale=scipy.stats.sem(df))\n",
    "print(\"신뢰구간: ({0}, {1})\".format(lower.round(2), upper.round(2)))\n",
    "#print(np.mean(df), scipy.stats.sem(df))"
   ]
  },
  {
   "cell_type": "markdown",
   "metadata": {},
   "source": [
    "> 표본표준편차는 알지만 모표준편차를 모르기 때문에 T-분포를 이용하여, 위 문제의 모평균값의 95% 신뢰구간을 구해보면 __(70.6, 72.4)__가 나온다."
   ]
  }
 ],
 "metadata": {
  "kernelspec": {
   "display_name": "Python 3",
   "language": "python",
   "name": "python3"
  },
  "language_info": {
   "codemirror_mode": {
    "name": "ipython",
    "version": 3
   },
   "file_extension": ".py",
   "mimetype": "text/x-python",
   "name": "python",
   "nbconvert_exporter": "python",
   "pygments_lexer": "ipython3",
   "version": "3.8.5"
  }
 },
 "nbformat": 4,
 "nbformat_minor": 4
}
